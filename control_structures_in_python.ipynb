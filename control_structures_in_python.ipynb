{
  "nbformat": 4,
  "nbformat_minor": 0,
  "metadata": {
    "colab": {
      "name": "control structures in python",
      "provenance": [],
      "authorship_tag": "ABX9TyOBLU7GSbExgv2er3s5FkCh",
      "include_colab_link": true
    },
    "kernelspec": {
      "name": "python3",
      "display_name": "Python 3"
    },
    "language_info": {
      "name": "python"
    }
  },
  "cells": [
    {
      "cell_type": "markdown",
      "metadata": {
        "id": "view-in-github",
        "colab_type": "text"
      },
      "source": [
        "<a href=\"https://colab.research.google.com/github/pullurisaipavan/python-practice/blob/main/control_structures_in_python.ipynb\" target=\"_parent\"><img src=\"https://colab.research.google.com/assets/colab-badge.svg\" alt=\"Open In Colab\"/></a>"
      ]
    },
    {
      "cell_type": "code",
      "execution_count": 17,
      "metadata": {
        "colab": {
          "base_uri": "https://localhost:8080/"
        },
        "id": "5Sp6O6k8PkSR",
        "outputId": "be138319-6f8c-478b-a643-8fcec296ca43"
      },
      "outputs": [
        {
          "output_type": "stream",
          "name": "stdout",
          "text": [
            "enter the age :100\n",
            "eligible for voting\n"
          ]
        }
      ],
      "source": [
        "#find out the person eligible for voting or not\n",
        "a=input(\"enter the age :\")\n",
        "b=int(a)\n",
        "if(b>=18):\n",
        "  print(\"eligible for voting\")\n",
        "else:\n",
        "  print(\"not eligible for voting\")  "
      ]
    },
    {
      "cell_type": "code",
      "source": [
        ""
      ],
      "metadata": {
        "id": "PqtTgGYpRv0F"
      },
      "execution_count": null,
      "outputs": []
    },
    {
      "cell_type": "code",
      "source": [
        "b=19\n",
        "if(b>=18):\n",
        "  print(\"eligible for voting\")\n",
        "else:\n",
        "  print(\"not eligible for voting\")\n"
      ],
      "metadata": {
        "colab": {
          "base_uri": "https://localhost:8080/"
        },
        "id": "K05qRX7NQkuk",
        "outputId": "035b15c9-9a05-4d5b-e2e2-467e276e5a57"
      },
      "execution_count": 7,
      "outputs": [
        {
          "output_type": "stream",
          "name": "stdout",
          "text": [
            "eligible for voting\n"
          ]
        }
      ]
    },
    {
      "cell_type": "code",
      "source": [
        "b=4\n",
        "if(b>=18):\n",
        "  print(\"eligible for voting\")\n",
        "else:\n",
        "  print(\"not eligible for voting\")\n"
      ],
      "metadata": {
        "colab": {
          "base_uri": "https://localhost:8080/"
        },
        "id": "LwcgUoNnQq_D",
        "outputId": "ee1ef83c-e347-41a6-9791-e6a9a4ddac86"
      },
      "execution_count": 12,
      "outputs": [
        {
          "output_type": "stream",
          "name": "stdout",
          "text": [
            "not eligible for voting\n"
          ]
        }
      ]
    },
    {
      "cell_type": "code",
      "source": [
        "# largest of three numbers\n",
        "a=int(input(\"1st number\"))\n",
        "b=int(input(\"2nd number\"))\n",
        "c=int(input(\"3rd number\"))\n",
        "if a>b:  \n",
        "  if a>c:\n",
        "    print(a)\n",
        "elif b>c:\n",
        "  if b>a:   \n",
        "    print(b) \n",
        "else:\n",
        "    print(c)    "
      ],
      "metadata": {
        "colab": {
          "base_uri": "https://localhost:8080/"
        },
        "id": "VuUooTx4RxCF",
        "outputId": "824ae063-899f-41a1-dd67-73bc78cea85d"
      },
      "execution_count": 24,
      "outputs": [
        {
          "output_type": "stream",
          "name": "stdout",
          "text": [
            "1st number12\n",
            "2nd number13\n",
            "3rd number14\n",
            "14\n"
          ]
        }
      ]
    },
    {
      "cell_type": "code",
      "source": [
        "#give 5 subject marks and find out the greatest among them\n",
        "a=int(input(\"1st \"))\n",
        "b=int(input(\"2nd \"))\n",
        "c=int(input(\"3rd \"))\n",
        "d=int(input(\"4th \"))\n",
        "e=int(input(\"5th\"))\n",
        "if a>b and a>c and a>d and a>e :\n",
        "  print(a)\n",
        "if b>a and b>c and b>d and b>e :\n",
        "  print(b)\n",
        "if c>b and c>a and c>d and c>e :\n",
        "  print(c)\n",
        "if d>b and d>c and d>a and d>e :\n",
        "  print(d)\n",
        "else :\n",
        "  print(e)        \n",
        "\n"
      ],
      "metadata": {
        "colab": {
          "base_uri": "https://localhost:8080/"
        },
        "id": "ILXh_ErsSMCs",
        "outputId": "84323479-3147-4a9c-83fa-d4872846ae45"
      },
      "execution_count": 25,
      "outputs": [
        {
          "output_type": "stream",
          "name": "stdout",
          "text": [
            "1st 31\n",
            "2nd 23\n",
            "3rd 100\n",
            "4th 3241\n",
            "5th111\n",
            "3241\n"
          ]
        }
      ]
    },
    {
      "cell_type": "code",
      "source": [
        "#check wheteher it is a isoceles or equilateral or scalene triangle\n",
        "a=int(input(\"1st side \"))\n",
        "b=int(input(\"2nd side \"))\n",
        "c=int(input(\"3rd side \"))\n",
        "if(a==b==c):\n",
        "  print(\"equilateral traingle\")\n",
        "elif(a!=b and b!=c and c!=a):  \n",
        "  print(\"scalene traingle\")\n",
        "else: \n",
        "  print(\"isocele triangle\") "
      ],
      "metadata": {
        "colab": {
          "base_uri": "https://localhost:8080/"
        },
        "id": "kAZvSEAZWF_e",
        "outputId": "23b5e5ec-b96a-444b-b175-423d257dbf30"
      },
      "execution_count": 26,
      "outputs": [
        {
          "output_type": "stream",
          "name": "stdout",
          "text": [
            "1st side 12\n",
            "2nd side 12\n",
            "3rd side 23\n",
            "isocele triangle\n"
          ]
        }
      ]
    },
    {
      "cell_type": "code",
      "source": [
        "#leap year or not\n",
        "a=int(input(\"enter the year \"))\n",
        "if(a%4==0):\n",
        " print(\"leap year\")\n",
        "elif(a%100==0): \n",
        " print(\"not a leap year\")\n",
        "else:\n",
        " print(\"leap year\") \n",
        "\n"
      ],
      "metadata": {
        "colab": {
          "base_uri": "https://localhost:8080/"
        },
        "id": "HTrXZt3QYc21",
        "outputId": "e0bdba7b-85e4-40e0-99ea-aa712b0e1da5"
      },
      "execution_count": 28,
      "outputs": [
        {
          "output_type": "stream",
          "name": "stdout",
          "text": [
            "enter the year 2020\n",
            "leap year\n"
          ]
        }
      ]
    },
    {
      "cell_type": "code",
      "source": [
        "import math\n"
      ],
      "metadata": {
        "id": "jBfqEbQ3Zz2m"
      },
      "execution_count": null,
      "outputs": []
    }
  ]
}