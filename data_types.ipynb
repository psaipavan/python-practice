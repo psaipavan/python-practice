{
  "cells": [
    {
      "cell_type": "markdown",
      "metadata": {
        "id": "view-in-github",
        "colab_type": "text"
      },
      "source": [
        "<a href=\"https://colab.research.google.com/github/pullurisaipavan/python-practice/blob/main/data_types.ipynb\" target=\"_parent\"><img src=\"https://colab.research.google.com/assets/colab-badge.svg\" alt=\"Open In Colab\"/></a>"
      ]
    },
    {
      "cell_type": "markdown",
      "id": "63c2df36",
      "metadata": {
        "id": "63c2df36"
      },
      "source": [
        "# converting int to string,float,boolean,complex"
      ]
    },
    {
      "cell_type": "code",
      "execution_count": null,
      "id": "c8958dd8",
      "metadata": {
        "id": "c8958dd8",
        "outputId": "13cc67e2-d12b-4796-cc01-2a8a5a2f0bbe"
      },
      "outputs": [
        {
          "name": "stdout",
          "output_type": "stream",
          "text": [
            "<class 'int'>\n",
            "<class 'str'>\n",
            "10\n",
            "<class 'float'>\n",
            "10.0\n",
            "<class 'bool'>\n",
            "True\n",
            "<class 'int'>\n",
            "(10+0j)\n"
          ]
        }
      ],
      "source": [
        "a=10\n",
        "print(type(a))\n",
        "b=str(a)\n",
        "#before conversion\n",
        "print(type(b))\n",
        "print(b)\n",
        "#after conversion\n",
        "c=float(a)\n",
        "print(type(c))\n",
        "print(c)\n",
        "d=bool(a)\n",
        "print(type(d))\n",
        "print(d)\n",
        "e=complex(a)\n",
        "print(type(a))\n",
        "print(e)\n"
      ]
    },
    {
      "cell_type": "markdown",
      "id": "6107d005",
      "metadata": {
        "id": "6107d005"
      },
      "source": [
        "# #converting string in to other formats\n",
        "\n"
      ]
    },
    {
      "cell_type": "code",
      "execution_count": null,
      "id": "ea834153",
      "metadata": {
        "id": "ea834153",
        "outputId": "f613ea70-b2f9-4e32-a4d4-ab43dc25c8b5"
      },
      "outputs": [
        {
          "name": "stdout",
          "output_type": "stream",
          "text": [
            "<class 'str'>\n"
          ]
        },
        {
          "ename": "ValueError",
          "evalue": "invalid literal for int() with base 10: 'sai pavan'",
          "output_type": "error",
          "traceback": [
            "\u001b[1;31m---------------------------------------------------------------------------\u001b[0m",
            "\u001b[1;31mValueError\u001b[0m                                Traceback (most recent call last)",
            "\u001b[1;32m~\\AppData\\Local\\Temp/ipykernel_7900/1509130707.py\u001b[0m in \u001b[0;36m<module>\u001b[1;34m\u001b[0m\n\u001b[0;32m      1\u001b[0m \u001b[0ma\u001b[0m\u001b[1;33m=\u001b[0m\u001b[1;34m'sai pavan'\u001b[0m\u001b[1;33m\u001b[0m\u001b[1;33m\u001b[0m\u001b[0m\n\u001b[0;32m      2\u001b[0m \u001b[0mprint\u001b[0m\u001b[1;33m(\u001b[0m\u001b[0mtype\u001b[0m\u001b[1;33m(\u001b[0m\u001b[0ma\u001b[0m\u001b[1;33m)\u001b[0m\u001b[1;33m)\u001b[0m\u001b[1;33m\u001b[0m\u001b[1;33m\u001b[0m\u001b[0m\n\u001b[1;32m----> 3\u001b[1;33m \u001b[0mb\u001b[0m\u001b[1;33m=\u001b[0m\u001b[0mint\u001b[0m\u001b[1;33m(\u001b[0m\u001b[0ma\u001b[0m\u001b[1;33m)\u001b[0m\u001b[1;33m\u001b[0m\u001b[1;33m\u001b[0m\u001b[0m\n\u001b[0m\u001b[0;32m      4\u001b[0m \u001b[1;31m#before conversion\u001b[0m\u001b[1;33m\u001b[0m\u001b[1;33m\u001b[0m\u001b[0m\n\u001b[0;32m      5\u001b[0m \u001b[0mprint\u001b[0m\u001b[1;33m(\u001b[0m\u001b[0mtype\u001b[0m\u001b[1;33m(\u001b[0m\u001b[0mb\u001b[0m\u001b[1;33m)\u001b[0m\u001b[1;33m)\u001b[0m\u001b[1;33m\u001b[0m\u001b[1;33m\u001b[0m\u001b[0m\n",
            "\u001b[1;31mValueError\u001b[0m: invalid literal for int() with base 10: 'sai pavan'"
          ]
        }
      ],
      "source": [
        "a='sai pavan'\n",
        "print(type(a))\n",
        "b=int(a)\n",
        "#can't convert alphabets into integers, instead of alphabets give digits 0-9\n",
        "#before conversion\n",
        "print(type(b))\n",
        "print(b)\n",
        "#after conversion\n",
        "c=float(a)\n",
        "print(type(c))\n",
        "print(c)\n",
        "d=bool(a)\n",
        "print(type(d))\n",
        "print(d)\n",
        "e=complex(a)\n",
        "print(type(a))\n",
        "print(e)\n",
        "\n",
        "\n"
      ]
    },
    {
      "cell_type": "markdown",
      "id": "bff3d95e",
      "metadata": {
        "id": "bff3d95e"
      },
      "source": [
        "# #converting string in to other formats"
      ]
    },
    {
      "cell_type": "code",
      "execution_count": null,
      "id": "1503f868",
      "metadata": {
        "id": "1503f868",
        "outputId": "365dca88-ff52-405f-a131-85d038647d75"
      },
      "outputs": [
        {
          "name": "stdout",
          "output_type": "stream",
          "text": [
            "<class 'str'>\n",
            "<class 'int'>\n",
            "10\n",
            "<class 'float'>\n",
            "10.0\n",
            "<class 'bool'>\n",
            "True\n",
            "<class 'str'>\n",
            "(10+0j)\n"
          ]
        }
      ],
      "source": [
        "a='10'\n",
        "print(type(a))\n",
        "b=int(a)\n",
        "#before conversion\n",
        "print(type(b))\n",
        "print(b)\n",
        "#after conversion\n",
        "c=float(a)\n",
        "print(type(c))\n",
        "print(c)\n",
        "d=bool(a)\n",
        "print(type(d))\n",
        "print(d)\n",
        "e=complex(a)\n",
        "print(type(a))\n",
        "print(e)\n"
      ]
    },
    {
      "cell_type": "markdown",
      "id": "c3e49a0f",
      "metadata": {
        "id": "c3e49a0f"
      },
      "source": [
        "# converting float into other formats"
      ]
    },
    {
      "cell_type": "code",
      "execution_count": null,
      "id": "33cb1878",
      "metadata": {
        "id": "33cb1878",
        "outputId": "071a5ac5-e642-401d-8222-0b36237a1a80"
      },
      "outputs": [
        {
          "name": "stdout",
          "output_type": "stream",
          "text": [
            "<class 'float'>\n",
            "<class 'int'>\n",
            "10\n",
            "<class 'str'>\n",
            "10.0\n",
            "<class 'bool'>\n",
            "True\n",
            "<class 'float'>\n",
            "(10+0j)\n"
          ]
        }
      ],
      "source": [
        "a=10.0\n",
        "print(type(a))\n",
        "b=int(a)\n",
        "#before conversion\n",
        "print(type(b))\n",
        "print(b)\n",
        "#after conversion\n",
        "c=str(a)\n",
        "print(type(c))\n",
        "print(c)\n",
        "d=bool(a)\n",
        "print(type(d))\n",
        "print(d)\n",
        "e=complex(a)\n",
        "print(type(a))\n",
        "print(e)\n"
      ]
    },
    {
      "cell_type": "markdown",
      "id": "e2e74b76",
      "metadata": {
        "id": "e2e74b76"
      },
      "source": [
        "# converting complex into other formats"
      ]
    },
    {
      "cell_type": "code",
      "execution_count": null,
      "id": "14833b2e",
      "metadata": {
        "id": "14833b2e",
        "outputId": "2423d3b9-47bd-4443-e950-3bc75fe2cd01"
      },
      "outputs": [
        {
          "name": "stdout",
          "output_type": "stream",
          "text": [
            "<class 'complex'>\n"
          ]
        },
        {
          "ename": "TypeError",
          "evalue": "can't convert complex to int",
          "output_type": "error",
          "traceback": [
            "\u001b[1;31m---------------------------------------------------------------------------\u001b[0m",
            "\u001b[1;31mTypeError\u001b[0m                                 Traceback (most recent call last)",
            "\u001b[1;32m~\\AppData\\Local\\Temp/ipykernel_7900/2806559848.py\u001b[0m in \u001b[0;36m<module>\u001b[1;34m\u001b[0m\n\u001b[0;32m      1\u001b[0m \u001b[0ma\u001b[0m\u001b[1;33m=\u001b[0m\u001b[1;33m(\u001b[0m\u001b[1;36m10\u001b[0m\u001b[1;33m+\u001b[0m\u001b[1;36m0j\u001b[0m\u001b[1;33m)\u001b[0m\u001b[1;33m\u001b[0m\u001b[1;33m\u001b[0m\u001b[0m\n\u001b[0;32m      2\u001b[0m \u001b[0mprint\u001b[0m\u001b[1;33m(\u001b[0m\u001b[0mtype\u001b[0m\u001b[1;33m(\u001b[0m\u001b[0ma\u001b[0m\u001b[1;33m)\u001b[0m\u001b[1;33m)\u001b[0m\u001b[1;33m\u001b[0m\u001b[1;33m\u001b[0m\u001b[0m\n\u001b[1;32m----> 3\u001b[1;33m \u001b[0mb\u001b[0m\u001b[1;33m=\u001b[0m\u001b[0mint\u001b[0m\u001b[1;33m(\u001b[0m\u001b[0ma\u001b[0m\u001b[1;33m)\u001b[0m\u001b[1;33m\u001b[0m\u001b[1;33m\u001b[0m\u001b[0m\n\u001b[0m\u001b[0;32m      4\u001b[0m \u001b[1;31m#before conversion\u001b[0m\u001b[1;33m\u001b[0m\u001b[1;33m\u001b[0m\u001b[0m\n\u001b[0;32m      5\u001b[0m \u001b[0mprint\u001b[0m\u001b[1;33m(\u001b[0m\u001b[0mtype\u001b[0m\u001b[1;33m(\u001b[0m\u001b[0mb\u001b[0m\u001b[1;33m)\u001b[0m\u001b[1;33m)\u001b[0m\u001b[1;33m\u001b[0m\u001b[1;33m\u001b[0m\u001b[0m\n",
            "\u001b[1;31mTypeError\u001b[0m: can't convert complex to int"
          ]
        }
      ],
      "source": [
        "a=(10+0j)\n",
        "print(type(a))\n",
        "b=int(a)\n",
        "#before conversion\n",
        "#can't convert complex into integer format\n",
        "print(type(b))\n",
        "print(b)\n",
        "#after conversion\n",
        "c=str(a)\n",
        "print(type(c))\n",
        "print(c)\n",
        "d=bool(a)\n",
        "print(type(d))\n",
        "print(d)\n",
        "e=float(a)\n",
        "print(type(a))\n",
        "print(e)\n"
      ]
    },
    {
      "cell_type": "markdown",
      "id": "c30c05cd",
      "metadata": {
        "id": "c30c05cd"
      },
      "source": [
        "# converting boolean into other formats"
      ]
    },
    {
      "cell_type": "code",
      "execution_count": null,
      "id": "2ae38f31",
      "metadata": {
        "id": "2ae38f31",
        "outputId": "339b4b17-7947-4f7b-a0b4-93799acfce0e"
      },
      "outputs": [
        {
          "name": "stdout",
          "output_type": "stream",
          "text": [
            "<class 'bool'>\n",
            "<class 'int'>\n",
            "1\n",
            "<class 'str'>\n",
            "True\n",
            "<class 'complex'>\n",
            "(1+0j)\n",
            "<class 'bool'>\n",
            "1.0\n"
          ]
        }
      ],
      "source": [
        "a=True\n",
        "print(type(a))\n",
        "b=int(a)\n",
        "#before conversion\n",
        "print(type(b))\n",
        "print(b)\n",
        "#after conversion\n",
        "c=str(a)\n",
        "print(type(c))\n",
        "print(c)\n",
        "d=complex(a)\n",
        "print(type(d))\n",
        "print(d)\n",
        "e=float(a)\n",
        "print(type(a))\n",
        "print(e)\n",
        "\n"
      ]
    },
    {
      "cell_type": "code",
      "execution_count": null,
      "id": "0b68b4aa",
      "metadata": {
        "id": "0b68b4aa"
      },
      "outputs": [],
      "source": [
        ""
      ]
    }
  ],
  "metadata": {
    "kernelspec": {
      "display_name": "Python 3 (ipykernel)",
      "language": "python",
      "name": "python3"
    },
    "language_info": {
      "codemirror_mode": {
        "name": "ipython",
        "version": 3
      },
      "file_extension": ".py",
      "mimetype": "text/x-python",
      "name": "python",
      "nbconvert_exporter": "python",
      "pygments_lexer": "ipython3",
      "version": "3.9.7"
    },
    "colab": {
      "name": "data types.ipynb",
      "provenance": [],
      "include_colab_link": true
    }
  },
  "nbformat": 4,
  "nbformat_minor": 5
}