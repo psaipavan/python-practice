{
  "nbformat": 4,
  "nbformat_minor": 0,
  "metadata": {
    "colab": {
      "name": "list python23-mar-2022",
      "provenance": [],
      "authorship_tag": "ABX9TyPIYCOw7ZQsgYfhNpmk7G4h",
      "include_colab_link": true
    },
    "kernelspec": {
      "name": "python3",
      "display_name": "Python 3"
    },
    "language_info": {
      "name": "python"
    }
  },
  "cells": [
    {
      "cell_type": "markdown",
      "metadata": {
        "id": "view-in-github",
        "colab_type": "text"
      },
      "source": [
        "<a href=\"https://colab.research.google.com/github/pullurisaipavan/python-practice/blob/main/list_python23_mar_2022.ipynb\" target=\"_parent\"><img src=\"https://colab.research.google.com/assets/colab-badge.svg\" alt=\"Open In Colab\"/></a>"
      ]
    },
    {
      "cell_type": "code",
      "execution_count": 42,
      "metadata": {
        "colab": {
          "base_uri": "https://localhost:8080/"
        },
        "id": "py4THXNw4a9L",
        "outputId": "48986c94-698b-4b19-ffe0-9c82043cb139"
      },
      "outputs": [
        {
          "output_type": "stream",
          "name": "stdout",
          "text": [
            "['apple', 'mango', 'guava', 'pineapple']\n",
            "banana\n",
            "strawbery\n",
            "['apple', 'mango', 'guava']\n",
            "['pineapple', 'strawbery', 'banana']\n"
          ]
        }
      ],
      "source": [
        "fruit=['apple','mango','guava','pineapple','strawbery','banana']\n",
        "print(fruit[0:4])\n",
        "print(fruit[-1])\n",
        "print(fruit[4])\n",
        "print(fruit[ :3])\n",
        "print(fruit[3:])\n",
        "fruit.append('pavan')\n",
        "\n"
      ]
    },
    {
      "cell_type": "code",
      "source": [
        "list = [1, \"Hello\", 3.4]\n",
        "list[0]"
      ],
      "metadata": {
        "colab": {
          "base_uri": "https://localhost:8080/"
        },
        "id": "v3tMPKvr8EgG",
        "outputId": "9ae0895c-df1a-4af5-f6d4-4579ac5c1a63"
      },
      "execution_count": 20,
      "outputs": [
        {
          "output_type": "execute_result",
          "data": {
            "text/plain": [
              "1"
            ]
          },
          "metadata": {},
          "execution_count": 20
        }
      ]
    },
    {
      "cell_type": "code",
      "source": [
        "#nested list\n",
        "my = [\"mouse\", [8, 4, 6], ['a']]\n",
        "my[1]"
      ],
      "metadata": {
        "colab": {
          "base_uri": "https://localhost:8080/"
        },
        "id": "dMGRxMuj8pob",
        "outputId": "0e454e5b-0489-417a-9a47-76127e67ab07"
      },
      "execution_count": 24,
      "outputs": [
        {
          "output_type": "execute_result",
          "data": {
            "text/plain": [
              "[8, 4, 6]"
            ]
          },
          "metadata": {},
          "execution_count": 24
        }
      ]
    },
    {
      "cell_type": "code",
      "source": [
        "#adding two values in list\n",
        "x=[1,2,3,4,5]\n",
        "print(x[0]+x[1])\n",
        "x[0]=6\n",
        "print(x[0])\n",
        "print(x[ :5])"
      ],
      "metadata": {
        "colab": {
          "base_uri": "https://localhost:8080/"
        },
        "id": "zYV0f0yF8560",
        "outputId": "9e85a10c-bc62-4de7-f091-ef8c58737160"
      },
      "execution_count": 30,
      "outputs": [
        {
          "output_type": "stream",
          "name": "stdout",
          "text": [
            "3\n",
            "6\n",
            "[6, 2, 3, 4, 5]\n"
          ]
        }
      ]
    },
    {
      "cell_type": "code",
      "source": [
        "a=['apple','ball',2,1.5]\n",
        "a.append('orange')\n",
        "print(a)\n",
        "a.extend([11,23,242])\n",
        "print(a)\n",
        "a.insert(1,'pavan')\n",
        "print(a)\n",
        "a.reverse()\n",
        "print(a)\n"
      ],
      "metadata": {
        "colab": {
          "base_uri": "https://localhost:8080/"
        },
        "id": "UtY1II2rAOqd",
        "outputId": "279b9e7d-351e-41b8-aa32-197ba76016f1"
      },
      "execution_count": 48,
      "outputs": [
        {
          "output_type": "stream",
          "name": "stdout",
          "text": [
            "['apple', 'ball', 2, 1.5, 'orange']\n",
            "['apple', 'ball', 2, 1.5, 'orange', 11, 23, 242]\n",
            "['apple', 'pavan', 'ball', 2, 1.5, 'orange', 11, 23, 242]\n",
            "[242, 23, 11, 'orange', 1.5, 2, 'ball', 'pavan', 'apple']\n"
          ]
        }
      ]
    },
    {
      "cell_type": "code",
      "source": [
        "fruits = ['apple', 'banana', 'cherry']\n",
        "#removes specified element\n",
        "fruits.pop(1)\n",
        "print(fruits)"
      ],
      "metadata": {
        "colab": {
          "base_uri": "https://localhost:8080/"
        },
        "id": "N0b7VFI2LWYL",
        "outputId": "160a75e9-9fb4-4b6a-be6e-afa0438de51b"
      },
      "execution_count": 50,
      "outputs": [
        {
          "output_type": "stream",
          "name": "stdout",
          "text": [
            "['apple', 'cherry']\n"
          ]
        }
      ]
    },
    {
      "cell_type": "code",
      "source": [
        "cars = ['Ford', 'BMW', 'Volvo']\n",
        "#sorting using sort functions in order to get in alphabetical order\n",
        "cars.sort()\n",
        "print(cars)\n",
        "print(len(cars))\n",
        "students=[1,10,3,4,2,31]\n",
        "students.sort()\n",
        "#ascending order\n",
        "print(students)\n",
        "#descending orderr\n",
        "students.reverse()\n",
        "print(students)"
      ],
      "metadata": {
        "colab": {
          "base_uri": "https://localhost:8080/"
        },
        "id": "2FKRopd3LoNy",
        "outputId": "c2fcc2a7-4d9c-4561-9455-68e70a929874"
      },
      "execution_count": 58,
      "outputs": [
        {
          "output_type": "stream",
          "name": "stdout",
          "text": [
            "['BMW', 'Ford', 'Volvo']\n",
            "3\n",
            "[1, 2, 3, 4, 10, 31]\n",
            "[31, 10, 4, 3, 2, 1]\n"
          ]
        }
      ]
    },
    {
      "cell_type": "code",
      "source": [
        "fruits = ['apple', 'banana', 'cherry', 'orange']\n",
        "#using clear function we can clear all data\n",
        "fruits.clear()\n",
        "print(fruits)\n"
      ],
      "metadata": {
        "colab": {
          "base_uri": "https://localhost:8080/"
        },
        "id": "xE-olADFL5KR",
        "outputId": "9024411b-0c83-4e41-b0c9-f7e3fb19a933"
      },
      "execution_count": 53,
      "outputs": [
        {
          "output_type": "stream",
          "name": "stdout",
          "text": [
            "[]\n"
          ]
        }
      ]
    },
    {
      "cell_type": "code",
      "source": [
        "fruits = ['apple', 'banana', 'cherry']\n",
        "#count function to get the specified value in the list\n",
        "x =fruits.len()\n",
        "print(x)\n"
      ],
      "metadata": {
        "colab": {
          "base_uri": "https://localhost:8080/",
          "height": 217
        },
        "id": "oNclrgMnL-Mq",
        "outputId": "9e41601b-f1f3-42cb-d89e-6de216db5dde"
      },
      "execution_count": 65,
      "outputs": [
        {
          "output_type": "error",
          "ename": "AttributeError",
          "evalue": "ignored",
          "traceback": [
            "\u001b[0;31m---------------------------------------------------------------------------\u001b[0m",
            "\u001b[0;31mAttributeError\u001b[0m                            Traceback (most recent call last)",
            "\u001b[0;32m<ipython-input-65-f3edfee4c0ba>\u001b[0m in \u001b[0;36m<module>\u001b[0;34m()\u001b[0m\n\u001b[1;32m      1\u001b[0m \u001b[0mfruits\u001b[0m \u001b[0;34m=\u001b[0m \u001b[0;34m[\u001b[0m\u001b[0;34m'apple'\u001b[0m\u001b[0;34m,\u001b[0m \u001b[0;34m'banana'\u001b[0m\u001b[0;34m,\u001b[0m \u001b[0;34m'cherry'\u001b[0m\u001b[0;34m]\u001b[0m\u001b[0;34m\u001b[0m\u001b[0;34m\u001b[0m\u001b[0m\n\u001b[1;32m      2\u001b[0m \u001b[0;31m#count function to get the specified value in the list\u001b[0m\u001b[0;34m\u001b[0m\u001b[0;34m\u001b[0m\u001b[0;34m\u001b[0m\u001b[0m\n\u001b[0;32m----> 3\u001b[0;31m \u001b[0mx\u001b[0m \u001b[0;34m=\u001b[0m\u001b[0mfruits\u001b[0m\u001b[0;34m.\u001b[0m\u001b[0mlen\u001b[0m\u001b[0;34m(\u001b[0m\u001b[0;34m)\u001b[0m\u001b[0;34m\u001b[0m\u001b[0;34m\u001b[0m\u001b[0m\n\u001b[0m\u001b[1;32m      4\u001b[0m \u001b[0mprint\u001b[0m\u001b[0;34m(\u001b[0m\u001b[0mx\u001b[0m\u001b[0;34m)\u001b[0m\u001b[0;34m\u001b[0m\u001b[0;34m\u001b[0m\u001b[0m\n",
            "\u001b[0;31mAttributeError\u001b[0m: 'list' object has no attribute 'len'"
          ]
        }
      ]
    }
  ]
}