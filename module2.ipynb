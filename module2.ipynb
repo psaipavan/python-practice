{
  "nbformat": 4,
  "nbformat_minor": 0,
  "metadata": {
    "colab": {
      "name": "module2.ipynb",
      "provenance": [],
      "authorship_tag": "ABX9TyOJxG8ePrhjym1ZcTsXUj+3",
      "include_colab_link": true
    },
    "kernelspec": {
      "name": "python3",
      "display_name": "Python 3"
    },
    "language_info": {
      "name": "python"
    }
  },
  "cells": [
    {
      "cell_type": "markdown",
      "metadata": {
        "id": "view-in-github",
        "colab_type": "text"
      },
      "source": [
        "<a href=\"https://colab.research.google.com/github/pullurisaipavan/python-practice/blob/main/module2.ipynb\" target=\"_parent\"><img src=\"https://colab.research.google.com/assets/colab-badge.svg\" alt=\"Open In Colab\"/></a>"
      ]
    },
    {
      "cell_type": "code",
      "execution_count": 29,
      "metadata": {
        "colab": {
          "base_uri": "https://localhost:8080/"
        },
        "id": "BobzEtAVGuL7",
        "outputId": "81d77dd8-5d39-443b-8725-621aa853a337"
      },
      "outputs": [
        {
          "output_type": "stream",
          "name": "stdout",
          "text": [
            "5\n",
            "4\n",
            "1\n"
          ]
        }
      ],
      "source": [
        "#x Create a function which accepts two inputs from the user and compute nCr\n",
        "\n",
        "def nCr(n, r):\n",
        " \n",
        "    return (fact(n) / (fact(r)* fact(n - r)))\n",
        "def fact(n):\n",
        "    k = 1\n",
        "    for i in range(2, n+1):\n",
        "        k = k * i\n",
        "  \n",
        "    return k\n",
        "n = int(input())\n",
        "r = int(input())\n",
        "print(int(nCr(n, r)))\n",
        "\n"
      ]
    },
    {
      "cell_type": "code",
      "source": [
        "#x Recursive function to compute GCD of 2 numbers\n",
        "\n",
        "\n",
        "def pgcd(x,y):\n",
        "  \n",
        "    for i in range(1,a+1):\n",
        "     if((a%i==0) and (b%i==0)):\n",
        "      gcd=i  \n",
        "      return gcd\n",
        "a=int(input())\n",
        "b=int(input()) \n",
        "\n",
        "print(pgcd(a,b))     "
      ],
      "metadata": {
        "colab": {
          "base_uri": "https://localhost:8080/"
        },
        "id": "su6lN-h2HN75",
        "outputId": "851bedd6-0ef0-4c4b-e85a-517f0eca73bd"
      },
      "execution_count": 52,
      "outputs": [
        {
          "output_type": "stream",
          "name": "stdout",
          "text": [
            "10\n",
            "20\n",
            "1\n"
          ]
        }
      ]
    },
    {
      "cell_type": "code",
      "source": [
        "#x Recursive function to find product of two numbers\n",
        "def num():\n",
        "  a=int(input())\n",
        "  b=int(input())\n",
        "  c=a*b \n",
        "  print(c)\n",
        "num()"
      ],
      "metadata": {
        "colab": {
          "base_uri": "https://localhost:8080/"
        },
        "id": "jg0hWM6FTbb3",
        "outputId": "16aa6a61-edc5-4eff-9551-7c8f8eab34ee"
      },
      "execution_count": 58,
      "outputs": [
        {
          "output_type": "stream",
          "name": "stdout",
          "text": [
            "4\n",
            "5\n",
            "20\n"
          ]
        }
      ]
    },
    {
      "cell_type": "code",
      "source": [
        "#x Program to print a specified list after removing the 0th, 4th and 5th elements.\n",
        "#Sample List : ['Red', 'Green', 'White', 'Black', 'Pink', 'Yellow']\n",
        "#Expected Output : ['Green', 'White', 'Black']\n",
        "def rem():\n",
        "    a=['Red', 'Green', 'White', 'Black', 'Pink', 'Yellow']\n",
        "    a.pop(5)\n",
        "    a.pop(4)\n",
        "    a.pop(0) \n",
        "    print(a)\n",
        "rem()\n"
      ],
      "metadata": {
        "colab": {
          "base_uri": "https://localhost:8080/"
        },
        "id": "wc4SZCT4TuoH",
        "outputId": "60c70a33-0dbe-4c7a-bf44-7527f935b4bf"
      },
      "execution_count": 82,
      "outputs": [
        {
          "output_type": "stream",
          "name": "stdout",
          "text": [
            "['Green', 'White', 'Black']\n"
          ]
        }
      ]
    },
    {
      "cell_type": "code",
      "source": [
        "#x Program to get the difference between the two lists.\n",
        "\n"
      ],
      "metadata": {
        "id": "km5jxCHyWS7i"
      },
      "execution_count": null,
      "outputs": []
    }
  ]
}