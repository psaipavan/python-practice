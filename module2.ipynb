{
  "nbformat": 4,
  "nbformat_minor": 0,
  "metadata": {
    "colab": {
      "name": "module2.ipynb",
      "provenance": [],
      "collapsed_sections": [],
      "authorship_tag": "ABX9TyPIHoINFk+xPWA8oVCwmfPs",
      "include_colab_link": true
    },
    "kernelspec": {
      "name": "python3",
      "display_name": "Python 3"
    },
    "language_info": {
      "name": "python"
    }
  },
  "cells": [
    {
      "cell_type": "markdown",
      "metadata": {
        "id": "view-in-github",
        "colab_type": "text"
      },
      "source": [
        "<a href=\"https://colab.research.google.com/github/pullurisaipavan/python-practice/blob/main/module2.ipynb\" target=\"_parent\"><img src=\"https://colab.research.google.com/assets/colab-badge.svg\" alt=\"Open In Colab\"/></a>"
      ]
    },
    {
      "cell_type": "code",
      "execution_count": null,
      "metadata": {
        "colab": {
          "base_uri": "https://localhost:8080/"
        },
        "id": "BobzEtAVGuL7",
        "outputId": "02b7a434-0474-44c1-a126-9c05ee775cfe"
      },
      "outputs": [
        {
          "name": "stdout",
          "output_type": "stream",
          "text": [
            "a=5\n",
            "b=4\n"
          ]
        },
        {
          "output_type": "execute_result",
          "data": {
            "text/plain": [
              "5.0"
            ]
          },
          "metadata": {},
          "execution_count": 5
        }
      ],
      "source": [
        "#x Create a function which accepts two inputs from the user and compute nCr\n",
        "\n",
        "def fact(i):\n",
        " if i>0:\n",
        "  return i*fact(i-1)\n",
        " else:\n",
        "  return 1\n",
        "def comb(n,r):\n",
        " return (fact(n)/((fact(n-r))*fact(r)))\n",
        "a=int(input('a='))\n",
        "b=int(input('b='))\n",
        "comb(a,b)\n",
        "\n"
      ]
    },
    {
      "cell_type": "code",
      "source": [
        "#x Recursive function to compute GCD of 2 numbers\n",
        "my_list=[4,2,6,1,8,46,987,236,54]\n",
        "my_list.sort()\n",
        "print(my_list)\n",
        "print(\"The second smallest number in the given list is: \",my_list[1])\n",
        "print(\"The second largest number in the given list is:\",my_list[len(my_list)-2])    "
      ],
      "metadata": {
        "colab": {
          "base_uri": "https://localhost:8080/"
        },
        "id": "su6lN-h2HN75",
        "outputId": "5709642e-3d0a-4dd2-e641-4422191aa78c"
      },
      "execution_count": null,
      "outputs": [
        {
          "output_type": "stream",
          "name": "stdout",
          "text": [
            "[1, 2, 4, 6, 8, 46, 54, 236, 987]\n",
            "The second smallest number in the given list is:  2\n",
            "The second largest number in the given list is: 236\n"
          ]
        }
      ]
    },
    {
      "cell_type": "code",
      "source": [
        "#x Recursive function to find product of two numbers\n",
        "def num():\n",
        "  a=int(input())\n",
        "  b=int(input())\n",
        "  return a*b\n",
        "num()"
      ],
      "metadata": {
        "colab": {
          "base_uri": "https://localhost:8080/"
        },
        "id": "jg0hWM6FTbb3",
        "outputId": "e756bfd2-1568-40f2-e1df-aa8ca6e7655c"
      },
      "execution_count": null,
      "outputs": [
        {
          "name": "stdout",
          "output_type": "stream",
          "text": [
            "5\n",
            "4\n"
          ]
        },
        {
          "output_type": "execute_result",
          "data": {
            "text/plain": [
              "20"
            ]
          },
          "metadata": {},
          "execution_count": 16
        }
      ]
    },
    {
      "cell_type": "code",
      "source": [
        "#x Program to print a specified list after removing the 0th, 4th and 5th elements.\n",
        "#Sample List : ['Red', 'Green', 'White', 'Black', 'Pink', 'Yellow']\n",
        "#Expected Output : ['Green', 'White', 'Black']\n",
        "def rem():\n",
        "    a=['Red', 'Green', 'White', 'Black', 'Pink', 'Yellow']\n",
        "    a.pop(5)\n",
        "    a.pop(4)\n",
        "    a.pop(0) \n",
        "    return a\n",
        "rem()\n"
      ],
      "metadata": {
        "colab": {
          "base_uri": "https://localhost:8080/"
        },
        "id": "wc4SZCT4TuoH",
        "outputId": "dd0a4fa1-b411-47fc-8c8a-2d968da394db"
      },
      "execution_count": null,
      "outputs": [
        {
          "output_type": "execute_result",
          "data": {
            "text/plain": [
              "['Green', 'White', 'Black']"
            ]
          },
          "metadata": {},
          "execution_count": 18
        }
      ]
    },
    {
      "cell_type": "code",
      "source": [
        "#x Recursive function to generate Fibonacci series\n",
        "def fibb(k):\n",
        " n1,n2=0,1\n",
        " count=0\n",
        " print(n1,n2)\n",
        " while count<k :\n",
        "    print(n1)\n",
        "    nth = n1 + n2\n",
        "    n1 = n2\n",
        "    n2 = nth\n",
        "    count += 1\n",
        "    return \n",
        "fibb(100)      \n",
        "\n",
        "\n"
      ],
      "metadata": {
        "id": "km5jxCHyWS7i",
        "colab": {
          "base_uri": "https://localhost:8080/"
        },
        "outputId": "46feebd3-cc8a-4839-b352-e7d5bba7fe45"
      },
      "execution_count": null,
      "outputs": [
        {
          "output_type": "stream",
          "name": "stdout",
          "text": [
            "0 1\n",
            "0\n"
          ]
        },
        {
          "output_type": "execute_result",
          "data": {
            "text/plain": [
              "1"
            ]
          },
          "metadata": {},
          "execution_count": 15
        }
      ]
    },
    {
      "cell_type": "code",
      "source": [
        "#x Program to get the difference between the two lists.\n",
        "def diff(a,b):\n",
        "  a=set(a)\n",
        "  b=set(b)\n",
        "  x=(a-b)\n",
        "  x=list(x)\n",
        "  return x\n",
        "a=['Red', 'Green', 'White', 'Black', 'Pink', 'Yellow',\"10\"]\n",
        "b= ['Green', 'White', 'Black']\n",
        "print(diff(a,b))"
      ],
      "metadata": {
        "colab": {
          "base_uri": "https://localhost:8080/"
        },
        "id": "DCCzhECsu7TP",
        "outputId": "764bda79-0444-4a4b-f809-2d1d034033a4"
      },
      "execution_count": null,
      "outputs": [
        {
          "output_type": "stream",
          "name": "stdout",
          "text": [
            "['10', 'Red', 'Yellow', 'Pink']\n"
          ]
        }
      ]
    },
    {
      "cell_type": "code",
      "source": [
        "#x Program to find the second smallest number and second largest number in a list.\n",
        "\n",
        "def min(list): \n",
        " list.sort()\n",
        " return list[1],list[-2]\n",
        "list=[\"10\",\"20\",\"30\",\"40\"]\n",
        "print(min(list)) \n"
      ],
      "metadata": {
        "colab": {
          "base_uri": "https://localhost:8080/"
        },
        "id": "FhpDLZ3pwR-V",
        "outputId": "11b82f3d-b54f-49b8-f976-723c947dcd2d"
      },
      "execution_count": null,
      "outputs": [
        {
          "output_type": "stream",
          "name": "stdout",
          "text": [
            "('20', '30')\n"
          ]
        }
      ]
    },
    {
      "cell_type": "code",
      "source": [
        "#x Given a list of numbers of list, write a Python program to create a list of tuples\n",
        "#having first element as the number and second element as the square of the\n",
        "#number.\n",
        "def list(a):\n",
        "  b=[]\n",
        "  for i in a:\n",
        "    x=tuple((i,i*i))\n",
        "    b.append(x)\n",
        "  return b\n",
        "a=[10,20,30,100]  \n",
        "print(list(a))\n"
      ],
      "metadata": {
        "colab": {
          "base_uri": "https://localhost:8080/"
        },
        "id": "llSsmFbvyDsx",
        "outputId": "67ad8cc5-8063-43f9-804c-fa25cec90520"
      },
      "execution_count": null,
      "outputs": [
        {
          "output_type": "stream",
          "name": "stdout",
          "text": [
            "[(10, 100), (20, 400), (30, 900), (100, 10000)]\n"
          ]
        }
      ]
    },
    {
      "cell_type": "code",
      "source": [
        "#x Program to generate and print a dictionary that contains a number (between 1\n",
        "#and n) in the form (x, x*x).\n",
        "#Sample Input: (n=5) :\n",
        "#Expected Output : {1: 1, 2: 4, 3: 9, 4: 16, 5: 25}\n",
        "\n",
        "n=int(input())\n",
        "d=dict()\n",
        "for x in range(1,n+1):\n",
        "  d[x]=x*x\n",
        "print(d)  "
      ],
      "metadata": {
        "colab": {
          "base_uri": "https://localhost:8080/"
        },
        "id": "m1_LqeakzOl7",
        "outputId": "935e1de6-fa86-4710-e4dd-27ce212bccc9"
      },
      "execution_count": null,
      "outputs": [
        {
          "output_type": "stream",
          "name": "stdout",
          "text": [
            "5\n",
            "{1: 1, 2: 4, 3: 9, 4: 16, 5: 25}\n"
          ]
        }
      ]
    },
    {
      "cell_type": "code",
      "source": [
        "#x Program for replacing one substring by another For example - Rabbit - Replace µbb¶ b\\\n",
        "#µcc¶\n",
        "def rep():\n",
        " x=str(input())\n",
        " print(x.replace(\"bb\",\"cc\"))\n",
        "rep()"
      ],
      "metadata": {
        "colab": {
          "base_uri": "https://localhost:8080/"
        },
        "id": "ObRYE3l-1VT0",
        "outputId": "d78af1cb-355d-40c1-df03-9d83b4cc230b"
      },
      "execution_count": null,
      "outputs": [
        {
          "output_type": "stream",
          "name": "stdout",
          "text": [
            "rabbit\n",
            "raccit\n"
          ]
        }
      ]
    },
    {
      "cell_type": "code",
      "source": [
        "#x Program for Counting occurrence of a certain element in a string, getting indexes that\n",
        "#have matching elements.For ex -.In Rabbit count how many times b has occurred .\n",
        "#Example-I have to go to a doctor and get myself checked. Count the number of\n",
        "#occXrrences of µWo¶.\n",
        "a=str(input())\n",
        "k=str(input())\n",
        "a.count(k)\n"
      ],
      "metadata": {
        "colab": {
          "base_uri": "https://localhost:8080/"
        },
        "id": "X7PuYUjD5w_F",
        "outputId": "ff0d4b58-6620-4675-a1f3-73c205a4e7ee"
      },
      "execution_count": null,
      "outputs": [
        {
          "name": "stdout",
          "output_type": "stream",
          "text": [
            "-I have to go to a doctor and get myself checked. Count the number of occXrrences of µWo¶.\n",
            "to\n"
          ]
        },
        {
          "output_type": "execute_result",
          "data": {
            "text/plain": [
              "3"
            ]
          },
          "metadata": {},
          "execution_count": 44
        }
      ]
    },
    {
      "cell_type": "code",
      "source": [
        "#x Python function that accepts a string and calculates the number of uppercase\n",
        "#letters and lowercase letters.\n",
        "def fun():\n",
        "  a=str(input())\n",
        "  lower=0\n",
        "  upper=0\n",
        "  for i in range(len(a)):\n",
        "     if(str[i]>='a' and str[i]<='z'):\n",
        "          lower+=1\n",
        "     elif(str[i]>='A' and str[i]<='Z'):\n",
        "          upper+=1\n",
        "print(lower)\n",
        "print(upper) \n",
        "fun()\n"
      ],
      "metadata": {
        "colab": {
          "base_uri": "https://localhost:8080/",
          "height": 373
        },
        "id": "8plHPGC_6r69",
        "outputId": "ed1a0520-71b7-41c5-f4eb-e5a41af6f431"
      },
      "execution_count": null,
      "outputs": [
        {
          "name": "stdout",
          "output_type": "stream",
          "text": [
            "0\n",
            "0\n",
            "fqe VV\n"
          ]
        },
        {
          "output_type": "error",
          "ename": "TypeError",
          "evalue": "ignored",
          "traceback": [
            "\u001b[0;31m---------------------------------------------------------------------------\u001b[0m",
            "\u001b[0;31mTypeError\u001b[0m                                 Traceback (most recent call last)",
            "\u001b[0;32m<ipython-input-55-88aaa43cd64d>\u001b[0m in \u001b[0;36m<module>\u001b[0;34m()\u001b[0m\n\u001b[1;32m     12\u001b[0m \u001b[0mprint\u001b[0m\u001b[0;34m(\u001b[0m\u001b[0mlower\u001b[0m\u001b[0;34m)\u001b[0m\u001b[0;34m\u001b[0m\u001b[0;34m\u001b[0m\u001b[0m\n\u001b[1;32m     13\u001b[0m \u001b[0mprint\u001b[0m\u001b[0;34m(\u001b[0m\u001b[0mupper\u001b[0m\u001b[0;34m)\u001b[0m\u001b[0;34m\u001b[0m\u001b[0;34m\u001b[0m\u001b[0m\n\u001b[0;32m---> 14\u001b[0;31m \u001b[0mfun\u001b[0m\u001b[0;34m(\u001b[0m\u001b[0;34m)\u001b[0m\u001b[0;34m\u001b[0m\u001b[0;34m\u001b[0m\u001b[0m\n\u001b[0m",
            "\u001b[0;32m<ipython-input-55-88aaa43cd64d>\u001b[0m in \u001b[0;36mfun\u001b[0;34m()\u001b[0m\n\u001b[1;32m      6\u001b[0m   \u001b[0mupper\u001b[0m\u001b[0;34m=\u001b[0m\u001b[0;36m0\u001b[0m\u001b[0;34m\u001b[0m\u001b[0;34m\u001b[0m\u001b[0m\n\u001b[1;32m      7\u001b[0m   \u001b[0;32mfor\u001b[0m \u001b[0mi\u001b[0m \u001b[0;32min\u001b[0m \u001b[0mrange\u001b[0m\u001b[0;34m(\u001b[0m\u001b[0mlen\u001b[0m\u001b[0;34m(\u001b[0m\u001b[0ma\u001b[0m\u001b[0;34m)\u001b[0m\u001b[0;34m)\u001b[0m\u001b[0;34m:\u001b[0m\u001b[0;34m\u001b[0m\u001b[0;34m\u001b[0m\u001b[0m\n\u001b[0;32m----> 8\u001b[0;31m      \u001b[0;32mif\u001b[0m\u001b[0;34m(\u001b[0m\u001b[0mstr\u001b[0m\u001b[0;34m[\u001b[0m\u001b[0mi\u001b[0m\u001b[0;34m]\u001b[0m\u001b[0;34m>=\u001b[0m\u001b[0;34m'a'\u001b[0m \u001b[0;32mand\u001b[0m \u001b[0mstr\u001b[0m\u001b[0;34m[\u001b[0m\u001b[0mi\u001b[0m\u001b[0;34m]\u001b[0m\u001b[0;34m<=\u001b[0m\u001b[0;34m'z'\u001b[0m\u001b[0;34m)\u001b[0m\u001b[0;34m:\u001b[0m\u001b[0;34m\u001b[0m\u001b[0;34m\u001b[0m\u001b[0m\n\u001b[0m\u001b[1;32m      9\u001b[0m           \u001b[0mlower\u001b[0m\u001b[0;34m+=\u001b[0m\u001b[0;36m1\u001b[0m\u001b[0;34m\u001b[0m\u001b[0;34m\u001b[0m\u001b[0m\n\u001b[1;32m     10\u001b[0m      \u001b[0;32melif\u001b[0m\u001b[0;34m(\u001b[0m\u001b[0mstr\u001b[0m\u001b[0;34m[\u001b[0m\u001b[0mi\u001b[0m\u001b[0;34m]\u001b[0m\u001b[0;34m>=\u001b[0m\u001b[0;34m'A'\u001b[0m \u001b[0;32mand\u001b[0m \u001b[0mstr\u001b[0m\u001b[0;34m[\u001b[0m\u001b[0mi\u001b[0m\u001b[0;34m]\u001b[0m\u001b[0;34m<=\u001b[0m\u001b[0;34m'Z'\u001b[0m\u001b[0;34m)\u001b[0m\u001b[0;34m:\u001b[0m\u001b[0;34m\u001b[0m\u001b[0;34m\u001b[0m\u001b[0m\n",
            "\u001b[0;31mTypeError\u001b[0m: 'type' object is not subscriptable"
          ]
        }
      ]
    },
    {
      "cell_type": "code",
      "source": [
        "## Program to count the number of strings where the string length is 2 or more and the first and last character are same from a given list of strings\n",
        "bhagy= ['abc', 'xyz', 'aba', '2321']\n",
        "count=0\n",
        "for x in bhagy:\n",
        " if len(x)>1 and x[0]==x[-1]:\n",
        "  print(\"The wanted strings are:\",x)\n",
        "count=count+1\n",
        "print(\"The number of strings with given conditions are:\",count)"
      ],
      "metadata": {
        "colab": {
          "base_uri": "https://localhost:8080/"
        },
        "id": "eHvjf-XAd78N",
        "outputId": "7a266b7d-4f6f-40ad-8da1-470b9754147e"
      },
      "execution_count": null,
      "outputs": [
        {
          "output_type": "stream",
          "name": "stdout",
          "text": [
            "The wanted strings are: aba\n",
            "The number of strings with given conditions are: 1\n"
          ]
        }
      ]
    },
    {
      "cell_type": "code",
      "source": [
        "## Python function that accepts a string and calculates the number of uppercase letters and lowercase letters\n",
        "a=\"Rise Roar Revolt\"\n",
        "upp=0\n",
        "low=0\n",
        "for x in a:\n",
        " if x.isupper():\n",
        "  upp=upp+1\n",
        " elif x.islower():\n",
        "  low=low+1\n",
        "else:\n",
        "  pass\n",
        "print(\"No of upper case letters are:\",upp)\n",
        "print(\"No of lower case letters are:\",low)"
      ],
      "metadata": {
        "colab": {
          "base_uri": "https://localhost:8080/"
        },
        "id": "39cFv5ibeE0k",
        "outputId": "f18baa4a-1779-42a3-b337-268043ccbc05"
      },
      "execution_count": null,
      "outputs": [
        {
          "output_type": "stream",
          "name": "stdout",
          "text": [
            "No of upper case letters are: 3\n",
            "No of lower case letters are: 11\n"
          ]
        }
      ]
    },
    {
      "cell_type": "code",
      "source": [
        "## Program for replacing one substring by another\n",
        "pradeep=\"dog\"\n",
        "print(pradeep.replace(\"bb\",\"cc\"))"
      ],
      "metadata": {
        "colab": {
          "base_uri": "https://localhost:8080/"
        },
        "id": "yiZ6d056eK4l",
        "outputId": "50060e53-3499-4ddd-e782-a9480c0995d6"
      },
      "execution_count": null,
      "outputs": [
        {
          "output_type": "stream",
          "name": "stdout",
          "text": [
            "dog\n"
          ]
        }
      ]
    }
  ]
}