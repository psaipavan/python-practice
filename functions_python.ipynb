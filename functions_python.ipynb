{
  "nbformat": 4,
  "nbformat_minor": 0,
  "metadata": {
    "colab": {
      "name": "functions python.ipynb",
      "provenance": [],
      "authorship_tag": "ABX9TyP6m5QzPGQYVCjdS+JCOyRD",
      "include_colab_link": true
    },
    "kernelspec": {
      "name": "python3",
      "display_name": "Python 3"
    },
    "language_info": {
      "name": "python"
    }
  },
  "cells": [
    {
      "cell_type": "markdown",
      "metadata": {
        "id": "view-in-github",
        "colab_type": "text"
      },
      "source": [
        "<a href=\"https://colab.research.google.com/github/pullurisaipavan/python-practice/blob/main/functions_python.ipynb\" target=\"_parent\"><img src=\"https://colab.research.google.com/assets/colab-badge.svg\" alt=\"Open In Colab\"/></a>"
      ]
    },
    {
      "cell_type": "code",
      "execution_count": 8,
      "metadata": {
        "colab": {
          "base_uri": "https://localhost:8080/"
        },
        "id": "Dx33mzV7Ujww",
        "outputId": "345f0580-5101-4f5f-c44c-5615345506ce"
      },
      "outputs": [
        {
          "output_type": "stream",
          "name": "stdout",
          "text": [
            "hello world\n",
            "hi\n",
            "what\n",
            "how are you\n"
          ]
        }
      ],
      "source": [
        "def pavan():     #to call the function\n",
        "  print(\"hello world\")\n",
        "def hello():  \n",
        "  print(\"hi\")\n",
        "def what():  \n",
        "  print(\"what\")\n",
        "def how():  \n",
        "  print(\"how are you\")\n",
        "pavan()            #calling a function `\n",
        "hello()\n",
        "what()\n",
        "how()\n"
      ]
    },
    {
      "cell_type": "code",
      "source": [
        "def put(ceo):\n",
        "  print(ceo+\" \"+\"of india\")\n",
        "put(\"mehabooba\")  #passing of arguments\n",
        "put(\"rocky\")\n",
        "put(\"reena\")   \n"
      ],
      "metadata": {
        "colab": {
          "base_uri": "https://localhost:8080/"
        },
        "id": "wOAFGtbPZCXy",
        "outputId": "6c757f5a-c63c-408f-8d1c-2f795d00ca1d"
      },
      "execution_count": 11,
      "outputs": [
        {
          "output_type": "stream",
          "name": "stdout",
          "text": [
            "mehabooba of india\n",
            "rocky of india\n",
            "reena of india\n"
          ]
        }
      ]
    },
    {
      "cell_type": "code",
      "source": [
        "#name ,age, gender\n",
        "def voting(age,gender,name):\n",
        "    print(\"age=\",age +\"gender=\",gender +\"name=\",name)\n",
        "voting(\"81\",\"others\",\"kaushik\")\n",
        "voting(\"21\",\"female\",\"charan\")\n",
        "voting(\"18\",\"male\",\"pavan\")\n",
        "   \n",
        "   "
      ],
      "metadata": {
        "colab": {
          "base_uri": "https://localhost:8080/"
        },
        "id": "DPsBkkRSZ2w5",
        "outputId": "5a21c994-7fff-4765-9d48-a640664a92c5"
      },
      "execution_count": 20,
      "outputs": [
        {
          "output_type": "stream",
          "name": "stdout",
          "text": [
            "age= 81gender= othersname= kaushik\n",
            "age= 21gender= femalename= charan\n",
            "age= 18gender= malename= pavan\n"
          ]
        }
      ]
    },
    {
      "cell_type": "code",
      "source": [
        "def voting(name,age,gender):\n",
        "  print(\"name =\",name+ \"age =\",age +\"gender=\",gender)\n",
        "voting(str(input()),int(input()),str(input()))\n"
      ],
      "metadata": {
        "colab": {
          "base_uri": "https://localhost:8080/",
          "height": 130
        },
        "id": "IF3-jxHIanji",
        "outputId": "f872ac73-343b-4f38-f51e-ed8b5c3fb18d"
      },
      "execution_count": 21,
      "outputs": [
        {
          "output_type": "error",
          "ename": "SyntaxError",
          "evalue": "ignored",
          "traceback": [
            "\u001b[0;36m  File \u001b[0;32m\"<ipython-input-21-a5742f5e643c>\"\u001b[0;36m, line \u001b[0;32m1\u001b[0m\n\u001b[0;31m    def voting(name,age,gender):\u001b[0m\n\u001b[0m                                ^\u001b[0m\n\u001b[0;31mSyntaxError\u001b[0m\u001b[0;31m:\u001b[0m unexpected EOF while parsing\n"
          ]
        }
      ]
    },
    {
      "cell_type": "code",
      "source": [
        "#python build in functions\n",
        "#absolute\n",
        "x=-25.03\n",
        "print(abs(x))\n",
        "complexnumber=2+5j\n",
        "print(abs(complexnumber))\n",
        "#"
      ],
      "metadata": {
        "colab": {
          "base_uri": "https://localhost:8080/"
        },
        "id": "5IHb0xAAg1T0",
        "outputId": "572958e5-d9dc-4184-fa7c-2b44e7601460"
      },
      "execution_count": 25,
      "outputs": [
        {
          "output_type": "stream",
          "name": "stdout",
          "text": [
            "25.03\n",
            "5.385164807134504\n"
          ]
        }
      ]
    }
  ]
}