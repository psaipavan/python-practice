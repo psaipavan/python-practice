{
  "nbformat": 4,
  "nbformat_minor": 0,
  "metadata": {
    "colab": {
      "name": "dictionary.ipynb",
      "provenance": [],
      "authorship_tag": "ABX9TyNMvxRvnN2zmxPiPYIxbWME",
      "include_colab_link": true
    },
    "kernelspec": {
      "name": "python3",
      "display_name": "Python 3"
    },
    "language_info": {
      "name": "python"
    }
  },
  "cells": [
    {
      "cell_type": "markdown",
      "metadata": {
        "id": "view-in-github",
        "colab_type": "text"
      },
      "source": [
        "<a href=\"https://colab.research.google.com/github/pullurisaipavan/python-practice/blob/main/dictionary.ipynb\" target=\"_parent\"><img src=\"https://colab.research.google.com/assets/colab-badge.svg\" alt=\"Open In Colab\"/></a>"
      ]
    },
    {
      "cell_type": "code",
      "execution_count": 1,
      "metadata": {
        "colab": {
          "base_uri": "https://localhost:8080/"
        },
        "id": "Ipw2NjwUb-is",
        "outputId": "9645ca50-8bea-4199-fc69-8d0f54898c08"
      },
      "outputs": [
        {
          "output_type": "stream",
          "name": "stdout",
          "text": [
            "{'sai': 'lily', 'charan': 'put', 'year': 2022}\n"
          ]
        }
      ],
      "source": [
        "#dictonaries in python\n",
        "x = {\n",
        "    \"sai\": \"lily\",\n",
        "    \"charan\": \"put\",\n",
        "    \"year\": 2022\n",
        "    }\n",
        "print(x)"
      ]
    },
    {
      "cell_type": "code",
      "source": [
        "#dictonaries in python\n",
        "x = {\n",
        "    \"sai\": \"lily\",\n",
        "    \"charan\": \"put\",\n",
        "    \"year\": 2022\n",
        "    }\n",
        "print(x[\"charan\"])"
      ],
      "metadata": {
        "colab": {
          "base_uri": "https://localhost:8080/"
        },
        "id": "6sFO5ImwdOLk",
        "outputId": "d803351d-2a39-4fa3-ffcc-a3cfe1399d38"
      },
      "execution_count": 2,
      "outputs": [
        {
          "output_type": "stream",
          "name": "stdout",
          "text": [
            "put\n"
          ]
        }
      ]
    },
    {
      "cell_type": "code",
      "source": [
        "y = {\n",
        "    \"kaushik\": \"elluru\",\n",
        "    \"gan\": \"man\",\n",
        "    \"nd\": 2022,\n",
        "    \"nd\":2020\n",
        "    }\n",
        "print(y)\n",
        "print(len(y)) #len for finding the length of the dictionary"
      ],
      "metadata": {
        "colab": {
          "base_uri": "https://localhost:8080/"
        },
        "id": "PCN0JIVFdohK",
        "outputId": "c309bc7c-b4fa-44e1-eb6f-f9e20c836264"
      },
      "execution_count": 9,
      "outputs": [
        {
          "output_type": "stream",
          "name": "stdout",
          "text": [
            "{'kaushik': 'elluru', 'gan': 'man', 'nd': 2020}\n",
            "3\n"
          ]
        }
      ]
    },
    {
      "cell_type": "code",
      "source": [
        "x = {\n",
        "    \"sai\": \"lily\",            #strings,int,boolean,list data types can be used\n",
        "    \"charan\": \"put\",\n",
        "    \"year\": 2022,\n",
        "    \"colors\": [\"red\",\"green\",\"blue\"]\n",
        "    }\n",
        "print(type(x))"
      ],
      "metadata": {
        "colab": {
          "base_uri": "https://localhost:8080/"
        },
        "id": "wGR-sK5jeiUc",
        "outputId": "73b29bca-3ee8-4036-aad8-c5b4bb5d5936"
      },
      "execution_count": 12,
      "outputs": [
        {
          "output_type": "stream",
          "name": "stdout",
          "text": [
            "<class 'dict'>\n"
          ]
        }
      ]
    },
    {
      "cell_type": "code",
      "source": [
        "#to access the items in the dict\n",
        "x = {\n",
        "    \"sai\": \"lily\",\n",
        "    \"charan\": \"put\",\n",
        "    \"year\": 2022\n",
        "    }\n",
        "y=x[\"charan\"]\n",
        "print(y)\n",
        "z=x.get(\"charan\")\n",
        "print(z)"
      ],
      "metadata": {
        "colab": {
          "base_uri": "https://localhost:8080/"
        },
        "id": "LMIgDjYQfZzy",
        "outputId": "e3df64e7-ed6d-417c-c458-e879f427508e"
      },
      "execution_count": 16,
      "outputs": [
        {
          "output_type": "stream",
          "name": "stdout",
          "text": [
            "put\n",
            "put\n"
          ]
        }
      ]
    },
    {
      "cell_type": "code",
      "source": [
        "dict={\"sai charan\":\"lilyput\",\"saketh\":\"jennie\",\"laxman\":\"chocolate\",\"kaushik\":\"elluru alludu\"}\n",
        "x=dict.keys()\n",
        "print(x)#before changes\n",
        "dict[\"pavan\"]=\"moon\"\n",
        "print(x)#after changes\n"
      ],
      "metadata": {
        "colab": {
          "base_uri": "https://localhost:8080/"
        },
        "id": "WVXWlzTLf6Oi",
        "outputId": "61b798d0-6802-4df9-e867-e4fd1545bced"
      },
      "execution_count": 19,
      "outputs": [
        {
          "output_type": "stream",
          "name": "stdout",
          "text": [
            "dict_keys(['sai charan', 'saketh', 'laxman', 'kaushik'])\n",
            "dict_keys(['sai charan', 'saketh', 'laxman', 'kaushik', 'pavan'])\n"
          ]
        }
      ]
    },
    {
      "cell_type": "code",
      "source": [
        "placements={\"name\":input(),\n",
        "            \"age\":input(),\n",
        "            \"branch\":input(),\n",
        "            \"cgpa\":input(),\n",
        "            \"mobile no.\":input(),\n",
        "            }"
      ],
      "metadata": {
        "colab": {
          "base_uri": "https://localhost:8080/"
        },
        "id": "fAu393BChe2L",
        "outputId": "58a424a3-f03d-4dce-9cd7-9fb6e7b1e053"
      },
      "execution_count": 27,
      "outputs": [
        {
          "name": "stdout",
          "output_type": "stream",
          "text": [
            "sai\n",
            "18\n",
            "cse ai and ml\n",
            "9.8\n",
            "978654567889\n"
          ]
        }
      ]
    },
    {
      "cell_type": "code",
      "source": [
        "x = {\n",
        "    \"sai\": \"lily\",\n",
        "    \"charan\": \"put\",\n",
        "    \"year\": 2022\n",
        "    }\n",
        "y=x.items()\n",
        "print(y)"
      ],
      "metadata": {
        "colab": {
          "base_uri": "https://localhost:8080/"
        },
        "id": "l7PWPt-ejuIS",
        "outputId": "13805ec9-f3da-422e-e40a-6a7feb569b24"
      },
      "execution_count": 29,
      "outputs": [
        {
          "output_type": "stream",
          "name": "stdout",
          "text": [
            "dict_items([('sai', 'lily'), ('charan', 'put'), ('year', 2022)])\n"
          ]
        }
      ]
    },
    {
      "cell_type": "code",
      "source": [
        "x = {\n",
        "    \"sai\": \"lily\",\n",
        "    \"charan\": \"put\",\n",
        "    \"year\": 2021\n",
        "    }\n",
        "y=x.items()\n",
        "print(y)\n",
        "x[\"charan\"]=\"baby liliput\"\n",
        "\n",
        "z=x.items()\n",
        "x[\"year\"]=2022\n",
        "print(z)"
      ],
      "metadata": {
        "colab": {
          "base_uri": "https://localhost:8080/"
        },
        "id": "FFVe6EJ5kfsy",
        "outputId": "355492da-5c6a-4de0-dfca-b0dcc3674b40"
      },
      "execution_count": 37,
      "outputs": [
        {
          "output_type": "stream",
          "name": "stdout",
          "text": [
            "dict_items([('sai', 'lily'), ('charan', 'put'), ('year', 2021)])\n",
            "dict_items([('sai', 'lily'), ('charan', 'baby liliput'), ('year', 2022)])\n"
          ]
        }
      ]
    }
  ]
}