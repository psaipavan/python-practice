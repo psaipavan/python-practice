{
  "nbformat": 4,
  "nbformat_minor": 0,
  "metadata": {
    "colab": {
      "name": "sets.ipynb",
      "provenance": [],
      "authorship_tag": "ABX9TyO8bYOrUV+AI8UkmmeSOXjl",
      "include_colab_link": true
    },
    "kernelspec": {
      "name": "python3",
      "display_name": "Python 3"
    },
    "language_info": {
      "name": "python"
    }
  },
  "cells": [
    {
      "cell_type": "markdown",
      "metadata": {
        "id": "view-in-github",
        "colab_type": "text"
      },
      "source": [
        "<a href=\"https://colab.research.google.com/github/pullurisaipavan/python-practice/blob/main/sets.ipynb\" target=\"_parent\"><img src=\"https://colab.research.google.com/assets/colab-badge.svg\" alt=\"Open In Colab\"/></a>"
      ]
    },
    {
      "cell_type": "code",
      "execution_count": null,
      "metadata": {
        "colab": {
          "base_uri": "https://localhost:8080/"
        },
        "id": "H9Yq380x0N1V",
        "outputId": "2dc48eb2-3486-4026-d5da-f9f0052f1993"
      },
      "outputs": [
        {
          "output_type": "stream",
          "name": "stdout",
          "text": [
            "b\n",
            "b\n",
            "b\n"
          ]
        }
      ],
      "source": [
        "a=(\"b\",\"c\",\"d\",\"e\",\"b\",\"b\",\"b\")\n",
        "y=list(a)\n",
        "for i in y:\n",
        "  if i=='b': \n",
        "\n",
        "     \n",
        "    y.remove(i)\n",
        "    print(i) \n"
      ]
    },
    {
      "cell_type": "code",
      "source": [
        "#sets\n",
        "set={\"p\",\"a\",\"v\",\"n\"}\n",
        "print(set)          #no order "
      ],
      "metadata": {
        "id": "BpTBPDbx3vs2",
        "colab": {
          "base_uri": "https://localhost:8080/"
        },
        "outputId": "55bcbefc-2079-49d5-e62e-677a77459b9b"
      },
      "execution_count": 2,
      "outputs": [
        {
          "output_type": "stream",
          "name": "stdout",
          "text": [
            "{'n', 'v', 'p', 'a'}\n"
          ]
        }
      ]
    },
    {
      "cell_type": "code",
      "source": [
        "#duplicates values are ignored\n",
        "set={\"p\",\"a\",\"v\",\"a\",\"n\"}\n",
        "print(set)\n"
      ],
      "metadata": {
        "colab": {
          "base_uri": "https://localhost:8080/"
        },
        "id": "jr1bIYBJTQtV",
        "outputId": "23eccc11-23c5-4c91-a9f2-154e5a1fc06d"
      },
      "execution_count": 3,
      "outputs": [
        {
          "output_type": "stream",
          "name": "stdout",
          "text": [
            "{'n', 'v', 'p', 'a'}\n"
          ]
        }
      ]
    },
    {
      "cell_type": "code",
      "source": [
        "#to find the length of the sets\n",
        "set={\"p\",\"a\",\"v\",\"a\",\"n\"}\n",
        "print(len(set))           #dupliclicates are ignored and counted \n"
      ],
      "metadata": {
        "colab": {
          "base_uri": "https://localhost:8080/"
        },
        "id": "rTciej9nTj5r",
        "outputId": "bd1e7136-d923-42f3-e72e-c881b035f158"
      },
      "execution_count": 4,
      "outputs": [
        {
          "output_type": "stream",
          "name": "stdout",
          "text": [
            "4\n"
          ]
        }
      ]
    },
    {
      "cell_type": "code",
      "source": [
        "s = {\"a\", 34, True, 40, \"pm\"}\n",
        "print(s)                               #set can contain different data types"
      ],
      "metadata": {
        "colab": {
          "base_uri": "https://localhost:8080/"
        },
        "id": "lOzLCFcbT2c9",
        "outputId": "fa14e3d8-a9af-4423-f526-d04d9b758738"
      },
      "execution_count": 6,
      "outputs": [
        {
          "output_type": "stream",
          "name": "stdout",
          "text": [
            "{True, 34, 40, 'pm', 'a'}\n"
          ]
        }
      ]
    },
    {
      "cell_type": "code",
      "source": [
        "set={\"p\",\"a\",\"v\",\"a\",\"n\"}\n",
        "print(type(set))                 #to find the data type of set\n",
        "p={\"a\",1,True,\"n\"}\n",
        "print(type(p))\n"
      ],
      "metadata": {
        "colab": {
          "base_uri": "https://localhost:8080/"
        },
        "id": "0jlCRyGPUPxJ",
        "outputId": "52b2ef52-84a8-4fe9-e0e0-c043b9f354fc"
      },
      "execution_count": 8,
      "outputs": [
        {
          "output_type": "stream",
          "name": "stdout",
          "text": [
            "<class 'set'>\n",
            "<class 'set'>\n"
          ]
        }
      ]
    },
    {
      "cell_type": "code",
      "source": [
        "#to acesss the item in sets\n",
        "set={\"p\",\"a\",\"v\",\"a\",\"n\"}\n",
        "for x in set:\n",
        "  print(x)"
      ],
      "metadata": {
        "colab": {
          "base_uri": "https://localhost:8080/"
        },
        "id": "Xx21xoZCU38X",
        "outputId": "e2d60365-526d-4254-b01f-669ceec24e14"
      },
      "execution_count": 12,
      "outputs": [
        {
          "output_type": "stream",
          "name": "stdout",
          "text": [
            "n\n",
            "v\n",
            "p\n",
            "a\n"
          ]
        }
      ]
    },
    {
      "cell_type": "code",
      "source": [
        "set={\"p\",\"a\",\"v\",\"a\",\"n\"}\n",
        "print(\"p\" in set)\n",
        "print(\"s\" in set)"
      ],
      "metadata": {
        "colab": {
          "base_uri": "https://localhost:8080/"
        },
        "id": "Hm0BgAxjVeI3",
        "outputId": "f147b7d5-bc95-4fb7-adde-c8342f08ebc7"
      },
      "execution_count": 18,
      "outputs": [
        {
          "output_type": "stream",
          "name": "stdout",
          "text": [
            "True\n",
            "False\n"
          ]
        }
      ]
    },
    {
      "cell_type": "code",
      "source": [
        "#adding the items to set\n",
        "set={\"p\",\"a\",\"v\",\"a\",\"n\"}\n",
        "set.add(\"liliput\")\n",
        "print(set)"
      ],
      "metadata": {
        "colab": {
          "base_uri": "https://localhost:8080/"
        },
        "id": "p2IM8GjSV6C9",
        "outputId": "e659ad10-ef92-4cf2-af42-9dcbe479a173"
      },
      "execution_count": 19,
      "outputs": [
        {
          "output_type": "stream",
          "name": "stdout",
          "text": [
            "{'n', 'a', 'p', 'v', 'liliput'}\n"
          ]
        }
      ]
    },
    {
      "cell_type": "code",
      "source": [
        "#adding of different types\n",
        "set={\"p\",\"a\",\"v\",\"a\",\"n\"}\n",
        "s={\"d\",\"lily\",\"ellur\",\"guntur\"}\n",
        "set.update(s)\n",
        "print(set)\n"
      ],
      "metadata": {
        "colab": {
          "base_uri": "https://localhost:8080/"
        },
        "id": "EXY3MGpFWTD9",
        "outputId": "11b3cc67-bb6f-4f08-e584-e554c72755e7"
      },
      "execution_count": 20,
      "outputs": [
        {
          "output_type": "stream",
          "name": "stdout",
          "text": [
            "{'guntur', 'ellur', 'lily', 'd', 'n', 'a', 'v', 'p'}\n"
          ]
        }
      ]
    },
    {
      "cell_type": "code",
      "source": [
        "#adding list \n",
        "set={\"p\",\"a\",\"v\",\"a\",\"n\"}         #we can add the list to set\n",
        "s=[\"d\",\"lily\",\"ellur\",\"guntur\"]\n",
        "set.update(s)\n",
        "print(set)"
      ],
      "metadata": {
        "colab": {
          "base_uri": "https://localhost:8080/"
        },
        "id": "LmoCH8btWwRr",
        "outputId": "1fff6511-447c-47f1-a995-f2b2ee68d470"
      },
      "execution_count": 21,
      "outputs": [
        {
          "output_type": "stream",
          "name": "stdout",
          "text": [
            "{'guntur', 'ellur', 'lily', 'd', 'n', 'a', 'v', 'p'}\n"
          ]
        }
      ]
    },
    {
      "cell_type": "code",
      "source": [
        "#to remove the element in set\n",
        "set={\"p\",\"a\",\"v\",\"a\",\"n\"} \n",
        "set.remove(\"a\")    #usage of \"remove\" keyword\n",
        "print(set)\n"
      ],
      "metadata": {
        "colab": {
          "base_uri": "https://localhost:8080/"
        },
        "id": "IBzqKzTmWwXk",
        "outputId": "96382a33-5ec1-4b34-ed25-6823f6909a05"
      },
      "execution_count": 22,
      "outputs": [
        {
          "output_type": "stream",
          "name": "stdout",
          "text": [
            "{'n', 'v', 'p'}\n"
          ]
        }
      ]
    },
    {
      "cell_type": "code",
      "source": [
        "#usage of discard\n",
        "set={\"p\",\"a\",\"v\",\"a\",\"n\"} \n",
        "set.discard(\"p\")\n",
        "print(set)\n"
      ],
      "metadata": {
        "colab": {
          "base_uri": "https://localhost:8080/"
        },
        "id": "U7OUDO3hX5Md",
        "outputId": "e7ac3cf4-f587-4a55-89d6-b18303d93bdd"
      },
      "execution_count": 24,
      "outputs": [
        {
          "output_type": "stream",
          "name": "stdout",
          "text": [
            "{'n', 'v', 'a'}\n"
          ]
        }
      ]
    },
    {
      "cell_type": "code",
      "source": [
        "#pop\n",
        "set={\"p\",\"a\",\"v\",\"a\",\"n\"}  #removes the last item\n",
        "x=set.pop()\n",
        "print(x)\n",
        "print(set)\n"
      ],
      "metadata": {
        "colab": {
          "base_uri": "https://localhost:8080/"
        },
        "id": "14ApknoNYPcL",
        "outputId": "527e2280-4159-4d95-d6ba-8f369ffd9841"
      },
      "execution_count": 27,
      "outputs": [
        {
          "output_type": "stream",
          "name": "stdout",
          "text": [
            "n\n",
            "{'v', 'p', 'a'}\n"
          ]
        }
      ]
    },
    {
      "cell_type": "code",
      "source": [
        "#clear to empty the set\n",
        "set={\"p\",\"a\",\"v\",\"a\",\"n\"}  \n",
        "set.clear()\n",
        "print(set)\n"
      ],
      "metadata": {
        "colab": {
          "base_uri": "https://localhost:8080/"
        },
        "id": "Sa8HeES8YgZt",
        "outputId": "e08346ae-1e4d-415c-978d-277939facfd3"
      },
      "execution_count": 29,
      "outputs": [
        {
          "output_type": "stream",
          "name": "stdout",
          "text": [
            "set()\n"
          ]
        }
      ]
    },
    {
      "cell_type": "code",
      "source": [
        "#del to remove the set completely\n",
        "set={\"p\",\"a\",\"v\",\"a\",\"n\"}\n",
        "del set\n",
        "print(set)"
      ],
      "metadata": {
        "colab": {
          "base_uri": "https://localhost:8080/"
        },
        "id": "sUlh6nXqY5kt",
        "outputId": "7ea464d1-1d59-4d2a-f107-09dd9cf5f0d7"
      },
      "execution_count": 30,
      "outputs": [
        {
          "output_type": "stream",
          "name": "stdout",
          "text": [
            "<class 'set'>\n"
          ]
        }
      ]
    },
    {
      "cell_type": "code",
      "source": [
        "#loops\n",
        "set={\"p\",\"a\",\"v\",\"a\",\"n\"}\n",
        "for x in set:\n",
        "  print(x)\n"
      ],
      "metadata": {
        "colab": {
          "base_uri": "https://localhost:8080/"
        },
        "id": "ATKOmu5xZLpe",
        "outputId": "887d110a-0d92-46a2-9993-112d1f52b9b5"
      },
      "execution_count": 32,
      "outputs": [
        {
          "output_type": "stream",
          "name": "stdout",
          "text": [
            "n\n",
            "v\n",
            "p\n",
            "a\n"
          ]
        }
      ]
    },
    {
      "cell_type": "code",
      "source": [
        "#joining of two sets\n",
        "x={\"lily\",\"elluru\",\"dark\",\"jennie\",\"moon\"}\n",
        "y={\"charan\",\"kaushik\",\"laxman\",\"saketh\",\"pavan\"}\n",
        "z=x.union(y)\n",
        "print(z)\n"
      ],
      "metadata": {
        "colab": {
          "base_uri": "https://localhost:8080/"
        },
        "id": "iKt4l8BVZcXk",
        "outputId": "bb4b74ac-0846-482b-fc43-3806f0927d09"
      },
      "execution_count": 33,
      "outputs": [
        {
          "output_type": "stream",
          "name": "stdout",
          "text": [
            "{'kaushik', 'saketh', 'jennie', 'pavan', 'moon', 'dark', 'laxman', 'lily', 'elluru', 'charan'}\n"
          ]
        }
      ]
    },
    {
      "cell_type": "code",
      "source": [
        "x={\"lily\",\"elluru\",\"dark\",\"jennie\",\"moon\"}\n",
        "y={\"charan\",\"kaushik\",\"laxman\",\"saketh\",\"pavan\"}\n",
        "x.update(y)\n",
        "print(x)"
      ],
      "metadata": {
        "colab": {
          "base_uri": "https://localhost:8080/"
        },
        "id": "pbcSOdDNaHHU",
        "outputId": "91893197-129d-461a-fbee-b3a1f83ad625"
      },
      "execution_count": 35,
      "outputs": [
        {
          "output_type": "stream",
          "name": "stdout",
          "text": [
            "{'kaushik', 'saketh', 'jennie', 'pavan', 'moon', 'dark', 'laxman', 'lily', 'elluru', 'charan'}\n"
          ]
        }
      ]
    },
    {
      "cell_type": "code",
      "source": [
        "x={\"lily\",\"elluru\",\"dark\",\"jennie\",\"moon\"}\n",
        "y={\"lily\",\"kaushik\",\"laxman\",\"saketh\",\"moon\"}\n",
        "x.intersection_update(y)  #only the common values\n",
        "print(x)\n",
        "z=x.intersection(y)\n",
        "print(z)"
      ],
      "metadata": {
        "colab": {
          "base_uri": "https://localhost:8080/"
        },
        "id": "ymMGibFzacEc",
        "outputId": "4dadf2cb-3f68-4730-a34a-5ee919000b53"
      },
      "execution_count": 37,
      "outputs": [
        {
          "output_type": "stream",
          "name": "stdout",
          "text": [
            "{'lily', 'moon'}\n",
            "{'lily', 'moon'}\n"
          ]
        }
      ]
    },
    {
      "cell_type": "code",
      "source": [
        "x={\"lily\",\"elluru\",\"dark\",\"jennie\",\"moon\"}\n",
        "y={\"lily\",\"kaushik\",\"laxman\",\"saketh\",\"moon\"}\n",
        "x.symmetric_difference_update(y)            #prints that are not common in both sets\n",
        "print(x)\n",
        "z=x.symmetric_difference(y)\n",
        "print(z)"
      ],
      "metadata": {
        "colab": {
          "base_uri": "https://localhost:8080/"
        },
        "id": "q22a8S2xaxG3",
        "outputId": "196b48e9-a187-49cc-a850-1649078385d0"
      },
      "execution_count": 40,
      "outputs": [
        {
          "output_type": "stream",
          "name": "stdout",
          "text": [
            "{'kaushik', 'saketh', 'jennie', 'dark', 'laxman', 'elluru'}\n",
            "{'dark', 'lily', 'jennie', 'elluru', 'moon'}\n"
          ]
        }
      ]
    },
    {
      "cell_type": "code",
      "source": [
        ""
      ],
      "metadata": {
        "id": "nQcuACy2bUp1"
      },
      "execution_count": null,
      "outputs": []
    },
    {
      "cell_type": "markdown",
      "source": [
        ""
      ],
      "metadata": {
        "id": "ojUqfDhM3TKb"
      }
    }
  ]
}