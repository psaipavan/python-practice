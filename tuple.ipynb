{
  "nbformat": 4,
  "nbformat_minor": 0,
  "metadata": {
    "colab": {
      "name": "tuple.ipynb",
      "provenance": [],
      "authorship_tag": "ABX9TyPxuzr2DxfAmUjpRHpWkcjV",
      "include_colab_link": true
    },
    "kernelspec": {
      "name": "python3",
      "display_name": "Python 3"
    },
    "language_info": {
      "name": "python"
    }
  },
  "cells": [
    {
      "cell_type": "markdown",
      "metadata": {
        "id": "view-in-github",
        "colab_type": "text"
      },
      "source": [
        "<a href=\"https://colab.research.google.com/github/pullurisaipavan/python-practice/blob/main/tuple.ipynb\" target=\"_parent\"><img src=\"https://colab.research.google.com/assets/colab-badge.svg\" alt=\"Open In Colab\"/></a>"
      ]
    },
    {
      "cell_type": "code",
      "execution_count": null,
      "metadata": {
        "colab": {
          "base_uri": "https://localhost:8080/"
        },
        "id": "Fwg5GMhrObfQ",
        "outputId": "7cc87420-fcd0-4add-9af9-ce777c710cab"
      },
      "outputs": [
        {
          "output_type": "stream",
          "name": "stdout",
          "text": [
            "('p', 'q', 'r', 's', 't')\n"
          ]
        }
      ],
      "source": [
        "tuple=(\"p\",\"q\",\"r\",\"s\",\"t\") #unique data\n",
        "print(tuple)\n",
        "list=[21,\"p\",\"s\",\"r\",\"i\"]        #It is the diff between the tuple and list\n",
        "                                     #in list data can be updated\n",
        "print(list)"
      ]
    },
    {
      "cell_type": "code",
      "source": [
        "p=(\"A\",\"d\",\"a\",\"f\",\"a\",\"a\",\"a\")\n",
        "x=p.count(\"a\")\n",
        "print(x)\n",
        "y=p.index(\"a\")\n",
        "print(y)"
      ],
      "metadata": {
        "colab": {
          "base_uri": "https://localhost:8080/"
        },
        "id": "IGYOXFcRlLJe",
        "outputId": "e2aa1d49-ce11-4c42-e668-1dbb41a4b3ce"
      },
      "execution_count": 32,
      "outputs": [
        {
          "output_type": "stream",
          "name": "stdout",
          "text": [
            "4\n",
            "2\n"
          ]
        }
      ]
    },
    {
      "cell_type": "code",
      "source": [
        "thistuple = (\"a\", \"b\", \"cy\", \"a\", \"cy\")\n",
        "print(thistuple)\n",
        "print(len(thistuple))\n",
        "x=len(thistuple)\n",
        "print(x)\n"
      ],
      "metadata": {
        "colab": {
          "base_uri": "https://localhost:8080/"
        },
        "id": "8QmcwMTAP4f-",
        "outputId": "e1e4a0b2-1891-4ac0-c854-248be58f9ad1"
      },
      "execution_count": 2,
      "outputs": [
        {
          "output_type": "stream",
          "name": "stdout",
          "text": [
            "('a', 'b', 'cy', 'a', 'cy')\n",
            "5\n",
            "5\n"
          ]
        }
      ]
    },
    {
      "cell_type": "code",
      "source": [
        "#create tuple with one item\n",
        "p=(\"w\",)\n",
        "print(p)\n"
      ],
      "metadata": {
        "colab": {
          "base_uri": "https://localhost:8080/"
        },
        "id": "PcGbLwUzQWM4",
        "outputId": "ab3c5385-5fb8-429b-d2f3-be04cff90034"
      },
      "execution_count": null,
      "outputs": [
        {
          "output_type": "stream",
          "name": "stdout",
          "text": [
            "('w',)\n"
          ]
        }
      ]
    },
    {
      "cell_type": "code",
      "source": [
        "p=(\"x\") \n",
        "print(p)"
      ],
      "metadata": {
        "colab": {
          "base_uri": "https://localhost:8080/"
        },
        "id": "U-ebvrWxQnZl",
        "outputId": "053ea522-ff5c-49c5-9643-f6b8c392802b"
      },
      "execution_count": null,
      "outputs": [
        {
          "output_type": "stream",
          "name": "stdout",
          "text": [
            "x\n"
          ]
        }
      ]
    },
    {
      "cell_type": "code",
      "source": [
        "#there can be three data types (int,string,boolean)\n",
        "t= (\"x\",\"y\",\"z\")\n",
        "r= (5,7,9,0,5)\n",
        "s= (True, False, True)"
      ],
      "metadata": {
        "id": "5bcHE3dWQyd9"
      },
      "execution_count": null,
      "outputs": []
    },
    {
      "cell_type": "code",
      "source": [
        "#to find the data type we need to use \"type() operator\"\n",
        "t=(\"a\", \"na\", \"cry\")\n",
        "print(type(t))\n",
        "r= (1, 5, 7, 9, 3)\n",
        "s= (True, False, False)\n",
        "print(type(r))\n",
        "print(type(s))"
      ],
      "metadata": {
        "colab": {
          "base_uri": "https://localhost:8080/"
        },
        "id": "lgF3w-aWSewP",
        "outputId": "b5ca699b-2196-45fa-9b0d-be82c25ac5e4"
      },
      "execution_count": null,
      "outputs": [
        {
          "output_type": "stream",
          "name": "stdout",
          "text": [
            "<class 'tuple'>\n",
            "<class 'tuple'>\n",
            "<class 'tuple'>\n"
          ]
        }
      ]
    },
    {
      "cell_type": "code",
      "source": [
        "p = tuple((\"le\", \"baa\", \"err\")) \n",
        "print(p)"
      ],
      "metadata": {
        "colab": {
          "base_uri": "https://localhost:8080/",
          "height": 200
        },
        "id": "60yzHADRTA4e",
        "outputId": "d1846233-c2f2-4726-a31b-86bd91ab84fa"
      },
      "execution_count": null,
      "outputs": [
        {
          "output_type": "error",
          "ename": "TypeError",
          "evalue": "ignored",
          "traceback": [
            "\u001b[0;31m---------------------------------------------------------------------------\u001b[0m",
            "\u001b[0;31mTypeError\u001b[0m                                 Traceback (most recent call last)",
            "\u001b[0;32m<ipython-input-14-7c4a0b8fd7f7>\u001b[0m in \u001b[0;36m<module>\u001b[0;34m()\u001b[0m\n\u001b[0;32m----> 1\u001b[0;31m \u001b[0mthistuple\u001b[0m \u001b[0;34m=\u001b[0m \u001b[0mtuple\u001b[0m\u001b[0;34m(\u001b[0m\u001b[0;34m(\u001b[0m\u001b[0;34m\"apple\"\u001b[0m\u001b[0;34m,\u001b[0m \u001b[0;34m\"banana\"\u001b[0m\u001b[0;34m,\u001b[0m \u001b[0;34m\"cherry\"\u001b[0m\u001b[0;34m)\u001b[0m\u001b[0;34m)\u001b[0m\u001b[0;34m\u001b[0m\u001b[0;34m\u001b[0m\u001b[0m\n\u001b[0m\u001b[1;32m      2\u001b[0m \u001b[0;31m# note the double round-brackets\u001b[0m\u001b[0;34m\u001b[0m\u001b[0;34m\u001b[0m\u001b[0;34m\u001b[0m\u001b[0m\n\u001b[1;32m      3\u001b[0m \u001b[0mprint\u001b[0m\u001b[0;34m(\u001b[0m\u001b[0mthistuple\u001b[0m\u001b[0;34m)\u001b[0m\u001b[0;34m\u001b[0m\u001b[0;34m\u001b[0m\u001b[0m\n",
            "\u001b[0;31mTypeError\u001b[0m: 'tuple' object is not callable"
          ]
        }
      ]
    },
    {
      "cell_type": "code",
      "source": [
        "#access the variable in it\n",
        "v=(\"r\",\"d\",\"t\",\"g\",\"j\")\n",
        "print(v[1])\n",
        "print(v[1:])\n",
        "print(v[:1])\n",
        "print(v[-1])\n",
        "print(v[-1:])\n",
        "print(v[-3:])\n",
        "print(v[:-3])\n",
        "print(v[3:5])"
      ],
      "metadata": {
        "colab": {
          "base_uri": "https://localhost:8080/"
        },
        "id": "84VVewq9maCn",
        "outputId": "3adf98c5-8bd3-4cce-9957-b78dde33426a"
      },
      "execution_count": 8,
      "outputs": [
        {
          "output_type": "stream",
          "name": "stdout",
          "text": [
            "d\n",
            "('d', 't', 'g', 'j')\n",
            "('r',)\n",
            "j\n",
            "('j',)\n",
            "('t', 'g', 'j')\n",
            "('r', 'd')\n",
            "('g', 'j')\n"
          ]
        }
      ]
    },
    {
      "cell_type": "code",
      "source": [
        "#to update the data in tuple\n",
        "#we have to convert the tuple into list and do the operations\n",
        "v=(\"r\",\"d\",\"t\",\"g\",\"j\")\n",
        "x=list(v)\n",
        "x.append(\"pavan\")                   # append usage\n",
        "print(x)     #before\n",
        "x.remove(\"g\")                     #remove usage \n",
        "print(x)      #after          #in list\n",
        "v=tuple(x)\n",
        "print(v)         #in tuple\n",
        "del v()                   #del to completely erase \n",
        "print(v)\n",
        "\n"
      ],
      "metadata": {
        "colab": {
          "base_uri": "https://localhost:8080/",
          "height": 130
        },
        "id": "zFoZjVofnE7A",
        "outputId": "7abace64-7c91-4da2-ae6f-332a85bd6989"
      },
      "execution_count": 18,
      "outputs": [
        {
          "output_type": "error",
          "ename": "SyntaxError",
          "evalue": "ignored",
          "traceback": [
            "\u001b[0;36m  File \u001b[0;32m\"<ipython-input-18-33da3decbe09>\"\u001b[0;36m, line \u001b[0;32m11\u001b[0m\n\u001b[0;31m    del v()                   #del to completely erase\u001b[0m\n\u001b[0m       ^\u001b[0m\n\u001b[0;31mSyntaxError\u001b[0m\u001b[0;31m:\u001b[0m can't delete function call\n"
          ]
        }
      ]
    },
    {
      "cell_type": "code",
      "source": [
        "#adding tuple to a tuple \n",
        "v=(\"r\",\"d\",\"t\",\"g\",\"j\")\n",
        "p=(\"pavan\",\"kite\")\n",
        "v += p\n",
        "print(v)\n"
      ],
      "metadata": {
        "colab": {
          "base_uri": "https://localhost:8080/"
        },
        "id": "T5tAxzmrooYQ",
        "outputId": "107bf870-2559-4259-b5d2-da9ea6abf9e1"
      },
      "execution_count": 15,
      "outputs": [
        {
          "output_type": "stream",
          "name": "stdout",
          "text": [
            "('r', 'd', 't', 'g', 'j', 'pavan', 'kite')\n"
          ]
        }
      ]
    },
    {
      "cell_type": "code",
      "source": [
        "f = (\"a\", \"b\", \"c\")\n",
        "   #unpacking a tuple using variables\n",
        "(g, y, r) = f\n",
        "\n",
        "print(g)\n",
        "print(y)\n",
        "print(r)"
      ],
      "metadata": {
        "colab": {
          "base_uri": "https://localhost:8080/"
        },
        "id": "zYLgNUPCp7P-",
        "outputId": "d703db74-eb92-46fb-b340-7f31fe18f214"
      },
      "execution_count": 19,
      "outputs": [
        {
          "output_type": "stream",
          "name": "stdout",
          "text": [
            "a\n",
            "b\n",
            "c\n"
          ]
        }
      ]
    },
    {
      "cell_type": "code",
      "source": [
        "f = (\"a\", \"b\", \"c\",\"d\",\"e\",\"f\")\n",
        "   \n",
        "(g, *y, r) = f\n",
        "\n",
        "print(g)\n",
        "print(y)\n",
        "print(r)"
      ],
      "metadata": {
        "colab": {
          "base_uri": "https://localhost:8080/"
        },
        "id": "QBvN631zqbou",
        "outputId": "a198a46f-fa5b-467c-96b1-f20fc5978e07"
      },
      "execution_count": 21,
      "outputs": [
        {
          "output_type": "stream",
          "name": "stdout",
          "text": [
            "a\n",
            "['b', 'c', 'd', 'e']\n",
            "f\n"
          ]
        }
      ]
    },
    {
      "cell_type": "code",
      "source": [
        "f = (\"a\", \"b\", \"c\",\"d\",\"e\",\"f\")\n",
        "  \n",
        "(g, y, *r) = f\n",
        "\n",
        "print(g)\n",
        "print(y)\n",
        "print(r)"
      ],
      "metadata": {
        "colab": {
          "base_uri": "https://localhost:8080/"
        },
        "id": "QuFncnfNrAzF",
        "outputId": "88f65966-f773-478c-aa59-3f17b7349842"
      },
      "execution_count": 22,
      "outputs": [
        {
          "output_type": "stream",
          "name": "stdout",
          "text": [
            "a\n",
            "b\n",
            "['c', 'd', 'e', 'f']\n"
          ]
        }
      ]
    },
    {
      "cell_type": "code",
      "source": [
        "#using loops for tuple\n",
        "f=(\"a\",\"b\",\"c\",\"d\",\"e\")\n",
        "for i in f:\n",
        "  print(i)"
      ],
      "metadata": {
        "colab": {
          "base_uri": "https://localhost:8080/"
        },
        "id": "qklCR9fBrHs3",
        "outputId": "7bcb1e94-f373-4ffe-f1a6-4ae118587a7f"
      },
      "execution_count": 24,
      "outputs": [
        {
          "output_type": "stream",
          "name": "stdout",
          "text": [
            "a\n",
            "b\n",
            "c\n",
            "d\n",
            "e\n"
          ]
        }
      ]
    },
    {
      "cell_type": "code",
      "source": [
        "f=(\"a\",\"b\",\"c\",\"d\",\"e\")\n",
        "for i in range(len(f)):     #through index\n",
        "  print(f[i])"
      ],
      "metadata": {
        "colab": {
          "base_uri": "https://localhost:8080/"
        },
        "id": "x7P2KIborpuu",
        "outputId": "c4cc1f61-0fcd-4e12-a84c-424658599074"
      },
      "execution_count": 26,
      "outputs": [
        {
          "output_type": "stream",
          "name": "stdout",
          "text": [
            "a\n",
            "b\n",
            "c\n",
            "d\n",
            "e\n"
          ]
        }
      ]
    },
    {
      "cell_type": "code",
      "source": [
        "t = (\"a\", \"b\", \"c\") #using while loop\n",
        "i = 0\n",
        "while i < len(t):\n",
        "  print(t[i])\n",
        "  i = i + 1"
      ],
      "metadata": {
        "colab": {
          "base_uri": "https://localhost:8080/"
        },
        "id": "mRmTrfo4sGtu",
        "outputId": "ffdbe82c-062a-4330-ea64-aedb71045266"
      },
      "execution_count": 27,
      "outputs": [
        {
          "output_type": "stream",
          "name": "stdout",
          "text": [
            "a\n",
            "b\n",
            "c\n"
          ]
        }
      ]
    },
    {
      "cell_type": "code",
      "source": [
        "#join two tuples\n",
        "i=(\"s\",\"f\",\"g\",\"k\",\"t\")\n",
        "r=(\"o\",\"e\",\"k\",\"l\")\n",
        "s=i+r\n",
        "print(s)"
      ],
      "metadata": {
        "colab": {
          "base_uri": "https://localhost:8080/"
        },
        "id": "gWvG5HdEsvrV",
        "outputId": "c34a59dd-8bb5-46f5-d411-0d79483480c2"
      },
      "execution_count": 28,
      "outputs": [
        {
          "output_type": "stream",
          "name": "stdout",
          "text": [
            "('s', 'f', 'g', 'k', 't', 'o', 'e', 'k', 'l')\n"
          ]
        }
      ]
    },
    {
      "cell_type": "code",
      "source": [
        "i=(\"s\",\"f\",\"g\",\"k\",\"t\")\n",
        "p=i*2\n",
        "print(p)"
      ],
      "metadata": {
        "colab": {
          "base_uri": "https://localhost:8080/"
        },
        "id": "_xUcB-yptFrH",
        "outputId": "61bbc172-7120-45ae-d4bb-50951c3921f5"
      },
      "execution_count": 29,
      "outputs": [
        {
          "output_type": "stream",
          "name": "stdout",
          "text": [
            "('s', 'f', 'g', 'k', 't', 's', 'f', 'g', 'k', 't')\n"
          ]
        }
      ]
    },
    {
      "cell_type": "code",
      "source": [
        ""
      ],
      "metadata": {
        "id": "PuaqnDsJtTHt"
      },
      "execution_count": null,
      "outputs": []
    }
  ]
}