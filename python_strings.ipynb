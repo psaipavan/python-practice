{
  "nbformat": 4,
  "nbformat_minor": 0,
  "metadata": {
    "colab": {
      "name": "python strings",
      "provenance": [],
      "authorship_tag": "ABX9TyPODyYETmihHyOMw1BzAWuo",
      "include_colab_link": true
    },
    "kernelspec": {
      "name": "python3",
      "display_name": "Python 3"
    },
    "language_info": {
      "name": "python"
    }
  },
  "cells": [
    {
      "cell_type": "markdown",
      "metadata": {
        "id": "view-in-github",
        "colab_type": "text"
      },
      "source": [
        "<a href=\"https://colab.research.google.com/github/pullurisaipavan/python-practice/blob/main/python_strings.ipynb\" target=\"_parent\"><img src=\"https://colab.research.google.com/assets/colab-badge.svg\" alt=\"Open In Colab\"/></a>"
      ]
    },
    {
      "cell_type": "code",
      "execution_count": 3,
      "metadata": {
        "colab": {
          "base_uri": "https://localhost:8080/"
        },
        "id": "fQ9586K9-B5Q",
        "outputId": "56dbc014-1100-4602-dd7e-cc5c99aa3d3f"
      },
      "outputs": [
        {
          "output_type": "stream",
          "name": "stdout",
          "text": [
            "i'm sai pavan started from DDS back hostel and reached mess at completed breakfast then my friend joined me and we reached to python class\n",
            "138\n",
            "138\n"
          ]
        }
      ],
      "source": [
        "x=\"i'm sai pavan started from DDS back hostel and reached mess at completed breakfast then my friend joined me and we reached to python class\"\n",
        "print(x)\n",
        "y=len(x) # assigning a variable and printing the length\n",
        "print(y)\n",
        "print(len(x)) #direct finding the length"
      ]
    },
    {
      "cell_type": "code",
      "source": [
        "#to find out the existing word in the given sentence\n",
        "#check string\n",
        "x=\"sai pavan\"\n",
        "print(\"pavan\" in x)\n",
        "print(\"xyz\" in x)\n"
      ],
      "metadata": {
        "colab": {
          "base_uri": "https://localhost:8080/"
        },
        "id": "kD2fzVoe_Xv6",
        "outputId": "9515c110-e53b-4191-9797-a614974a7a97"
      },
      "execution_count": 7,
      "outputs": [
        {
          "output_type": "stream",
          "name": "stdout",
          "text": [
            "True\n",
            "False\n"
          ]
        }
      ]
    },
    {
      "cell_type": "code",
      "source": [
        "#if not\n",
        "x=\"i is an independent class person\"\n",
        "print(\"class\" not in x)\n",
        "print(\"pavant\" not in x)\n"
      ],
      "metadata": {
        "colab": {
          "base_uri": "https://localhost:8080/"
        },
        "id": "w3Yj3coqBLbp",
        "outputId": "4cea24ec-50c9-4dd4-e9ee-ddb14d7c4d2c"
      },
      "execution_count": 14,
      "outputs": [
        {
          "output_type": "stream",
          "name": "stdout",
          "text": [
            "False\n",
            "True\n"
          ]
        }
      ]
    },
    {
      "cell_type": "code",
      "source": [
        "#using if statement\n",
        "y=\"is an idiot fellow\"\n",
        "if \"idit\" not in y:\n",
        "  print(\"no'idiot' , not in set\")"
      ],
      "metadata": {
        "colab": {
          "base_uri": "https://localhost:8080/"
        },
        "id": "FQYltzNBCfLB",
        "outputId": "63a63226-ece2-40b9-9172-3d57268694c6"
      },
      "execution_count": 22,
      "outputs": [
        {
          "output_type": "stream",
          "name": "stdout",
          "text": [
            "no'idiot' , not in set\n"
          ]
        }
      ]
    },
    {
      "cell_type": "code",
      "source": [
        "#slicing\n",
        "x=\"im in python class \"\n",
        "print(x[2:5])\n",
        "print(x[2:5],x[6:7])\n",
        "print(x[:-5])\n",
        "print(x[5:])\n",
        "print(x[-10:-5])\n"
      ],
      "metadata": {
        "colab": {
          "base_uri": "https://localhost:8080/"
        },
        "id": "ARX9L79NDVt5",
        "outputId": "c9bcca57-0e79-474b-b30d-2f38d9e01c9c"
      },
      "execution_count": 41,
      "outputs": [
        {
          "output_type": "stream",
          "name": "stdout",
          "text": [
            " in\n",
            " in p\n",
            "im in python c\n",
            " python class \n",
            "hon c\n"
          ]
        }
      ]
    },
    {
      "cell_type": "code",
      "source": [
        "#modifying the string\n",
        "p=\"SAI PAVAN is in college\"\n",
        "print(p.upper())\n",
        "print(p.lower())\n",
        "print(p.upper())\n"
      ],
      "metadata": {
        "colab": {
          "base_uri": "https://localhost:8080/"
        },
        "id": "2MSSxsNOEhjf",
        "outputId": "22755c45-7baf-4889-8bf7-3c930656d926"
      },
      "execution_count": 49,
      "outputs": [
        {
          "output_type": "stream",
          "name": "stdout",
          "text": [
            "SAI PAVAN IS IN COLLEGE\n",
            "sai pavan is in college\n",
            "SAI PAVAN IS IN COLLEGE\n"
          ]
        }
      ]
    },
    {
      "cell_type": "code",
      "source": [
        "#removing white spaces in a string\n",
        "x=\"                 pavan is    villain          \"\n",
        "print(x.strip())       # removes only the white spaces at end and beginning of a string"
      ],
      "metadata": {
        "colab": {
          "base_uri": "https://localhost:8080/"
        },
        "id": "lflm6qHWFG9I",
        "outputId": "26744afd-3972-4cea-9998-33ecb14d9c0b"
      },
      "execution_count": 35,
      "outputs": [
        {
          "output_type": "stream",
          "name": "stdout",
          "text": [
            "pavan is    villain\n"
          ]
        }
      ]
    },
    {
      "cell_type": "code",
      "source": [
        "a = \"Hello, World!\"\n",
        "print(a.split(\",\")) # returns ['Hello', ' World!']"
      ],
      "metadata": {
        "colab": {
          "base_uri": "https://localhost:8080/"
        },
        "id": "pN0of4fuFiaR",
        "outputId": "691d45bc-7546-434b-8662-eb534beb9697"
      },
      "execution_count": 42,
      "outputs": [
        {
          "output_type": "stream",
          "name": "stdout",
          "text": [
            "['Hello', ' World!']\n"
          ]
        }
      ]
    },
    {
      "cell_type": "code",
      "source": [
        "#string concotaination\n",
        "a=\"pavan\"\n",
        "b=\"sai\"\n",
        "c=b+a\n",
        "print(c)\n",
        "#to add space in between\n",
        "d=b+\" \"+a\n",
        "print(d)"
      ],
      "metadata": {
        "colab": {
          "base_uri": "https://localhost:8080/"
        },
        "id": "V_kaXL54GMzw",
        "outputId": "c18e6a61-c6c7-45b1-a399-56393a5ebf7b"
      },
      "execution_count": 46,
      "outputs": [
        {
          "output_type": "stream",
          "name": "stdout",
          "text": [
            "saipavan\n",
            "sai pavan\n"
          ]
        }
      ]
    },
    {
      "cell_type": "code",
      "source": [
        "#replacing a one letter in existing data\n",
        "#is used to update data\n",
        "x=\"pavab\"\n"
      ],
      "metadata": {
        "colab": {
          "base_uri": "https://localhost:8080/",
          "height": 200
        },
        "id": "_6P_lZIQIVoe",
        "outputId": "417f3d07-3a5a-4948-9783-a5d235b0af5c"
      },
      "execution_count": 54,
      "outputs": [
        {
          "output_type": "error",
          "ename": "TypeError",
          "evalue": "ignored",
          "traceback": [
            "\u001b[0;31m---------------------------------------------------------------------------\u001b[0m",
            "\u001b[0;31mTypeError\u001b[0m                                 Traceback (most recent call last)",
            "\u001b[0;32m<ipython-input-54-6074522d7efc>\u001b[0m in \u001b[0;36m<module>\u001b[0;34m()\u001b[0m\n\u001b[1;32m      2\u001b[0m \u001b[0;31m#is used to update data\u001b[0m\u001b[0;34m\u001b[0m\u001b[0;34m\u001b[0m\u001b[0;34m\u001b[0m\u001b[0m\n\u001b[1;32m      3\u001b[0m \u001b[0mx\u001b[0m\u001b[0;34m=\u001b[0m\u001b[0;34m\"pavab\"\u001b[0m\u001b[0;34m\u001b[0m\u001b[0;34m\u001b[0m\u001b[0m\n\u001b[0;32m----> 4\u001b[0;31m \u001b[0mx\u001b[0m\u001b[0;34m.\u001b[0m\u001b[0mreplace\u001b[0m\u001b[0;34m(\u001b[0m\u001b[0;34m\"pavab\"\u001b[0m\u001b[0;34m,\u001b[0m\u001b[0;34m\"a\"\u001b[0m\u001b[0;34m,\u001b[0m\u001b[0;34m\"n\"\u001b[0m\u001b[0;34m)\u001b[0m\u001b[0;34m\u001b[0m\u001b[0;34m\u001b[0m\u001b[0m\n\u001b[0m",
            "\u001b[0;31mTypeError\u001b[0m: 'str' object cannot be interpreted as an integer"
          ]
        }
      ]
    },
    {
      "cell_type": "code",
      "source": [
        "pavan=10\n",
        "x=\"he has {} chocalates.\"\n",
        "print(x.format(pavan))\n",
        "z=100\n",
        "f=10\n",
        "\n",
        "y=\"he has{} and gave to pav{} and {}  to her\"\n",
        "print(y.format(pavan,z,f))"
      ],
      "metadata": {
        "colab": {
          "base_uri": "https://localhost:8080/"
        },
        "id": "ODHlt7yYKeD3",
        "outputId": "266b4022-206e-4301-8653-39ae3ccb5b5d"
      },
      "execution_count": 61,
      "outputs": [
        {
          "output_type": "stream",
          "name": "stdout",
          "text": [
            "he has 10 chocalates.\n",
            "he has10 and gave to pav100 and 10  to her\n"
          ]
        }
      ]
    },
    {
      "cell_type": "code",
      "source": [
        "#escape characters in a string\n",
        "\n",
        "\n"
      ],
      "metadata": {
        "id": "YEoOSMbRNVg8"
      },
      "execution_count": null,
      "outputs": []
    }
  ]
}