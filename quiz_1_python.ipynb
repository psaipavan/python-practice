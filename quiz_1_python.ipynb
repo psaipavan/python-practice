{
  "nbformat": 4,
  "nbformat_minor": 0,
  "metadata": {
    "colab": {
      "name": "quiz 1 python",
      "provenance": [],
      "authorship_tag": "ABX9TyMvvW5phrbrr6DWisZhpG5J",
      "include_colab_link": true
    },
    "kernelspec": {
      "name": "python3",
      "display_name": "Python 3"
    },
    "language_info": {
      "name": "python"
    }
  },
  "cells": [
    {
      "cell_type": "markdown",
      "metadata": {
        "id": "view-in-github",
        "colab_type": "text"
      },
      "source": [
        "<a href=\"https://colab.research.google.com/github/pullurisaipavan/python-practice/blob/main/quiz_1_python.ipynb\" target=\"_parent\"><img src=\"https://colab.research.google.com/assets/colab-badge.svg\" alt=\"Open In Colab\"/></a>"
      ]
    },
    {
      "cell_type": "code",
      "execution_count": 5,
      "metadata": {
        "colab": {
          "base_uri": "https://localhost:8080/"
        },
        "id": "JKQRbbpvh9DR",
        "outputId": "6a65013e-81a9-479c-e8f3-ddb46eafc891"
      },
      "outputs": [
        {
          "output_type": "stream",
          "name": "stdout",
          "text": [
            "['red', 'orange', 'yellow', 'black', 'green']\n"
          ]
        }
      ],
      "source": [
        "#4 question\n",
        "Rainbow=['red','orange','yellow','green']\n",
        "Rainbow.insert(3,'black')\n",
        "print(Rainbow)"
      ]
    },
    {
      "cell_type": "code",
      "source": [
        "#3 question \n",
        "#Find out the Largest of three numbers from the give input\n",
        "a=5\n",
        "b=3\n",
        "c=2\n",
        "if(a>b and a>c):\n",
        "    print(a)\n",
        "elif(b>c and b>a):\n",
        "    print(b)\n",
        "else:\n",
        "    print(c)"
      ],
      "metadata": {
        "colab": {
          "base_uri": "https://localhost:8080/"
        },
        "id": "8jl5OfTCiez9",
        "outputId": "ab934121-0038-446a-bade-94fc99297605"
      },
      "execution_count": null,
      "outputs": [
        {
          "output_type": "stream",
          "name": "stdout",
          "text": [
            "5\n"
          ]
        }
      ]
    },
    {
      "cell_type": "code",
      "source": [
        "#2 question\n",
        "#Find out the square root of the number\n",
        "a=4\n",
        "b=a**1/2\n",
        "print(b)\n"
      ],
      "metadata": {
        "colab": {
          "base_uri": "https://localhost:8080/"
        },
        "id": "NUJclHTNinzc",
        "outputId": "5bd96de4-bf5a-441e-ea21-fda23e7c7585"
      },
      "execution_count": null,
      "outputs": [
        {
          "output_type": "stream",
          "name": "stdout",
          "text": [
            "2.0\n"
          ]
        }
      ]
    },
    {
      "cell_type": "code",
      "source": [
        "#1st question\n",
        "#Write a program of swapping of two numbers\n",
        "a=3\n",
        "b=2\n",
        "c=a+b\n",
        "b=c-a\n",
        "a=c-b\n",
        "print(\"Result =\", a,b)"
      ],
      "metadata": {
        "colab": {
          "base_uri": "https://localhost:8080/"
        },
        "id": "-DHD1CUTi3qr",
        "outputId": "87359efc-d896-4d09-bf78-8353fffbe68a"
      },
      "execution_count": null,
      "outputs": [
        {
          "output_type": "stream",
          "name": "stdout",
          "text": [
            "Result = 3 2\n"
          ]
        }
      ]
    }
  ]
}