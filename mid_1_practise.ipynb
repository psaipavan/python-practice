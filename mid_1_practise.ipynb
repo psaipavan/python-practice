{
  "nbformat": 4,
  "nbformat_minor": 0,
  "metadata": {
    "colab": {
      "name": "mid 1 practise.ipynb",
      "provenance": [],
      "authorship_tag": "ABX9TyPwu7XHqXUxGQ4wzhZbzzp0",
      "include_colab_link": true
    },
    "kernelspec": {
      "name": "python3",
      "display_name": "Python 3"
    },
    "language_info": {
      "name": "python"
    }
  },
  "cells": [
    {
      "cell_type": "markdown",
      "metadata": {
        "id": "view-in-github",
        "colab_type": "text"
      },
      "source": [
        "<a href=\"https://colab.research.google.com/github/pullurisaipavan/python-practice/blob/main/mid_1_practise.ipynb\" target=\"_parent\"><img src=\"https://colab.research.google.com/assets/colab-badge.svg\" alt=\"Open In Colab\"/></a>"
      ]
    },
    {
      "cell_type": "code",
      "execution_count": 13,
      "metadata": {
        "colab": {
          "base_uri": "https://localhost:8080/"
        },
        "id": "3F90XzP8aNQl",
        "outputId": "04b28de5-3ffa-4023-9fd2-948fdb5948bf"
      },
      "outputs": [
        {
          "output_type": "stream",
          "name": "stdout",
          "text": [
            "Please, Enter the Lowest Range Value: 25\n",
            "Please, Enter the Upper Range Value: 50\n",
            "29\n",
            "31\n",
            "37\n",
            "41\n",
            "43\n",
            "47\n"
          ]
        }
      ],
      "source": [
        "#write a program to print prime numbers in given range by using function the range value is 25 to 50\n",
        "def prime(lower_value, upper_value): \n",
        " for number in range (lower_value, upper_value + 1):  \n",
        "    if number > 1:  \n",
        "        for i in range (2, number):  \n",
        "            if (number % i) == 0:  \n",
        "                break  \n",
        "        else:  \n",
        "            print (number)  \n",
        "lower_value = int(input (\"\"))  \n",
        "upper_value = int(input (\"\")) \n",
        "prime(lower_value, upper_value)             \n"
      ]
    },
    {
      "cell_type": "code",
      "source": [
        "#write a program to read any month in integer and display days for that month 1,3,5,7,8,10,12\n",
        "a=int(input())\n",
        "if(a==1 or a==3 or a==5 or a==7 or a==8 or a==10 or a==12):\n",
        "  print(\"days are:\"\"31\")\n",
        "elif(a==4 or a==6 or a==9 or a==11 ):\n",
        "  print(\"days are:\"\"30\")\n",
        "elif(a==2):\n",
        "  print(\"days are :\"\"28 days\")\n",
        "else:\n",
        "  print(\"ther are no months\")  "
      ],
      "metadata": {
        "colab": {
          "base_uri": "https://localhost:8080/"
        },
        "id": "2qepMv-JaftE",
        "outputId": "f490447e-945a-4e60-e837-f2316bb73d13"
      },
      "execution_count": 18,
      "outputs": [
        {
          "output_type": "stream",
          "name": "stdout",
          "text": [
            "4\n",
            "days are:30\n"
          ]
        }
      ]
    },
    {
      "cell_type": "code",
      "source": [
        "#write a python program to print even length words in a string\n",
        "#input:hi how are you \n",
        "#output:hi\n",
        "s=\"this is python\"\n",
        "s=s.split(' ')\n",
        "for x in s:\n",
        "  if len(x)%2==0: \n",
        "     print(x,end=' ')\n",
        " \n"
      ],
      "metadata": {
        "colab": {
          "base_uri": "https://localhost:8080/"
        },
        "id": "rRtWOSpKa0B-",
        "outputId": "9becc1d0-e645-4498-c2d5-2e733ccb4cf8"
      },
      "execution_count": 37,
      "outputs": [
        {
          "output_type": "stream",
          "name": "stdout",
          "text": [
            "this is python "
          ]
        }
      ]
    },
    {
      "cell_type": "code",
      "source": [
        "#a)write a python program to captalize the first letter and last letter of each word\n",
        "a=str(input())\n",
        "b=a.split()\n",
        "c=''\n",
        "for i in b:\n",
        "  x=i.capitalize()\n",
        "  y=i[-1].capitalize()\n",
        "  z=x[0:-1]+y\n",
        "  print(z,end=\" \")\n",
        "\n",
        "\n",
        "\n"
      ],
      "metadata": {
        "colab": {
          "base_uri": "https://localhost:8080/"
        },
        "id": "M_5dRDsSbbra",
        "outputId": "a222ff25-7e15-4d40-8d47-0aa4e746930b"
      },
      "execution_count": 51,
      "outputs": [
        {
          "output_type": "stream",
          "name": "stdout",
          "text": [
            "qfawcacca\n",
            "QfawcaccA "
          ]
        }
      ]
    },
    {
      "cell_type": "code",
      "source": [
        "#b)write a program to read a string from user display first character of each word with capital\n",
        "  #input:the newcher pavan\n",
        "  #output:The Newcher Pavan\n",
        "a=str(input())\n",
        "b=a.split()\n",
        "for i in b:\n",
        "  x=i.capitalize()\n",
        "  print(x)"
      ],
      "metadata": {
        "colab": {
          "base_uri": "https://localhost:8080/"
        },
        "id": "-qP_QYTBrbDN",
        "outputId": "85ebfa16-54d4-4706-e0e0-eb88de475261"
      },
      "execution_count": 44,
      "outputs": [
        {
          "output_type": "stream",
          "name": "stdout",
          "text": [
            "gfs ef ef v\n",
            "Gfs\n",
            "Ef\n",
            "Ef\n",
            "V\n"
          ]
        }
      ]
    },
    {
      "cell_type": "code",
      "source": [
        "#write a python program to convert a list of multiple integers into a single integer\n",
        " #input:11,33,50\n",
        " #output:113350\n",
        "a=eval(input())\n",
        "b=\"\"\n",
        "for i in a:\n",
        " b+=str(i)\n",
        " print(b)  \n",
        "\n"
      ],
      "metadata": {
        "colab": {
          "base_uri": "https://localhost:8080/"
        },
        "id": "eU2vZcoacOi9",
        "outputId": "a2056bc0-814b-4345-c280-14927418f153"
      },
      "execution_count": 56,
      "outputs": [
        {
          "output_type": "stream",
          "name": "stdout",
          "text": [
            "[11,33,44]\n",
            "11\n",
            "1133\n",
            "113344\n"
          ]
        }
      ]
    },
    {
      "cell_type": "code",
      "source": [
        ""
      ],
      "metadata": {
        "id": "Wn0M-8b5csZ_"
      },
      "execution_count": null,
      "outputs": []
    }
  ]
}