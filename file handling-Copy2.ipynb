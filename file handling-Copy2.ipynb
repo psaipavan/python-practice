{
 "cells": [
  {
   "cell_type": "markdown",
   "id": "162451ea",
   "metadata": {},
   "source": [
    "# open a file"
   ]
  },
  {
   "cell_type": "code",
   "execution_count": 13,
   "id": "07777556",
   "metadata": {},
   "outputs": [
    {
     "name": "stdout",
     "output_type": "stream",
     "text": [
      "water is conserved 2108\n",
      "/,[]\\\n",
      "\n",
      "gfsgv\n",
      "fsg\n",
      "a\n",
      "sf\n",
      "as\n",
      "fva\n",
      "f\n",
      "ad\n",
      "fva\n",
      "sfv\n",
      "sa\n",
      "f\n",
      "asz\n",
      "f\n",
      "csaz\n",
      "dvf\n",
      "z\n",
      "xvc\n",
      "z\n"
     ]
    }
   ],
   "source": [
    "f=open(\"D:\\sai pavan 300337\\saipavan.txt\",\"r\")   #copy location then \\ file name .txt\n",
    "print(f.read())"
   ]
  },
  {
   "cell_type": "code",
   "execution_count": 16,
   "id": "e1fbadc4",
   "metadata": {},
   "outputs": [
    {
     "name": "stdout",
     "output_type": "stream",
     "text": [
      "water\n"
     ]
    }
   ],
   "source": [
    "#reading a file up to certain limit\n",
    "f=open(\"D:\\sai pavan 300337\\saipavan.txt\",\"r\")   \n",
    "print(f.read(5))"
   ]
  },
  {
   "cell_type": "code",
   "execution_count": 14,
   "id": "e5820482",
   "metadata": {},
   "outputs": [
    {
     "name": "stdout",
     "output_type": "stream",
     "text": [
      "['water is conserved 2108\\n']\n"
     ]
    }
   ],
   "source": [
    "f=open(\"D:\\sai pavan 300337\\saipavan.txt\",\"r\")   \n",
    "print(f.readlines(1))            #to read line by line"
   ]
  },
  {
   "cell_type": "code",
   "execution_count": 17,
   "id": "0e507a05",
   "metadata": {},
   "outputs": [
    {
     "name": "stdout",
     "output_type": "stream",
     "text": [
      "['water is conserved 2108\\n', '/,[]\\\\\\n', '\\n', 'gfsgv\\n', 'fsg\\n', 'a\\n', 'sf\\n', 'as\\n', 'fva\\n', 'f\\n', 'ad\\n', 'fva\\n', 'sfv\\n', 'sa\\n', 'f\\n', 'asz\\n', 'f\\n', 'csaz\\n', 'dvf\\n', 'z\\n', 'xvc\\n', 'z']\n",
      "[]\n"
     ]
    }
   ],
   "source": [
    "f=open(\"D:\\sai pavan 300337\\saipavan.txt\",\"r\")   \n",
    "print(f.readlines())\n",
    "print(f.readlines())"
   ]
  },
  {
   "cell_type": "code",
   "execution_count": 19,
   "id": "fc2673d7",
   "metadata": {},
   "outputs": [
    {
     "name": "stdout",
     "output_type": "stream",
     "text": [
      "sai pavan\n",
      "\n",
      "charan\n",
      "\n",
      "lilly\n",
      "\n",
      "put\n",
      "\n",
      "07\n",
      "\n",
      "27\n",
      "\n",
      "100\n",
      "\n",
      "[]\n",
      "\n",
      "{}\n"
     ]
    }
   ],
   "source": [
    "#copy a file using for loop\n",
    "f=open(\"D:\\sai pavan 300337\\hero.txt\")\n",
    "for x in f:\n",
    "    print(x)\n",
    "f.close()    "
   ]
  },
  {
   "cell_type": "code",
   "execution_count": 23,
   "id": "2b42793c",
   "metadata": {},
   "outputs": [
    {
     "name": "stdout",
     "output_type": "stream",
     "text": [
      "sai pavan\n",
      "charan\n",
      "lilly\n",
      "put\n",
      "07\n",
      "27\n",
      "100\n",
      "[]\n",
      "{}add key wordsadd key wordsteam work for completing project\n"
     ]
    }
   ],
   "source": [
    "f=open(\"D:\\sai pavan 300337\\hero.txt\",\"a\")\n",
    "f.write(\"team work for completing project\") #to append the data\n",
    "f.close()\n",
    "\n",
    "#open and read the file after the appending:\n",
    "f = open(\"D:\\sai pavan 300337\\hero.txt\", \"r\")\n",
    "print(f.read())"
   ]
  },
  {
   "cell_type": "code",
   "execution_count": 33,
   "id": "080bfeb0",
   "metadata": {},
   "outputs": [
    {
     "name": "stdout",
     "output_type": "stream",
     "text": [
      "haters gonna hate\n"
     ]
    }
   ],
   "source": [
    "f = open(\"love.txt\", \"x\")\n",
    "\n",
    "f=open(\"D:\\sai pavan 300337\\love.txt\",\"a\")\n",
    "f.write(\"haters gonna hate\") \n",
    "f.close()\n",
    "f = open(\"D:\\sai pavan 300337\\love.txt\", \"r\")\n",
    "print(f.read())"
   ]
  },
  {
   "cell_type": "code",
   "execution_count": 34,
   "id": "feb1c5c3",
   "metadata": {},
   "outputs": [],
   "source": [
    "import os\n",
    "os.remove(\"love.txt\")  #removed the love.txt\n"
   ]
  },
  {
   "cell_type": "code",
   "execution_count": 35,
   "id": "20249409",
   "metadata": {},
   "outputs": [
    {
     "name": "stdout",
     "output_type": "stream",
     "text": [
      "haters gonna hate\n"
     ]
    }
   ],
   "source": [
    "f = open(\"waste.txt\", \"x\")\n",
    "\n",
    "f=open(\"D:\\sai pavan 300337\\waste.txt\",\"a\")\n",
    "f.write(\"haters gonna hate\") \n",
    "f.close()\n",
    "f = open(\"D:\\sai pavan 300337\\waste.txt\", \"r\")\n",
    "print(f.read())"
   ]
  },
  {
   "cell_type": "code",
   "execution_count": 36,
   "id": "8c1588a0",
   "metadata": {},
   "outputs": [],
   "source": [
    "#used to remove the waste.txt\n",
    "import os\n",
    "if os.path.exists(\"waste.txt\"):\n",
    "  os.remove(\"waste.txt\")\n",
    "else:\n",
    "  print(\"The file does not exist\")"
   ]
  },
  {
   "cell_type": "code",
   "execution_count": 37,
   "id": "00bf31b0",
   "metadata": {},
   "outputs": [
    {
     "name": "stdout",
     "output_type": "stream",
     "text": [
      "The file does not exist\n"
     ]
    }
   ],
   "source": [
    "#again checking that it is deleted or not\n",
    "import os\n",
    "if os.path.exists(\"waste.txt\"):\n",
    "  os.remove(\"waste.txt\")\n",
    "else:\n",
    "  print(\"The file does not exist\")"
   ]
  },
  {
   "cell_type": "code",
   "execution_count": 45,
   "id": "f183c2ea",
   "metadata": {},
   "outputs": [],
   "source": [
    "#created the folder \n",
    "#removing the folder with the usage of rmdir\n",
    "import os\n",
    "os.rmdir(\"D:\\\\saipav\")"
   ]
  },
  {
   "cell_type": "code",
   "execution_count": 42,
   "id": "7a7fcffd",
   "metadata": {},
   "outputs": [],
   "source": [
    "import os\n",
    "os.rmdir(\"D:\\\\myfolder\")#it removes only the empty files"
   ]
  },
  {
   "cell_type": "code",
   "execution_count": null,
   "id": "15d6cea3",
   "metadata": {},
   "outputs": [],
   "source": []
  }
 ],
 "metadata": {
  "kernelspec": {
   "display_name": "Python 3 (ipykernel)",
   "language": "python",
   "name": "python3"
  },
  "language_info": {
   "codemirror_mode": {
    "name": "ipython",
    "version": 3
   },
   "file_extension": ".py",
   "mimetype": "text/x-python",
   "name": "python",
   "nbconvert_exporter": "python",
   "pygments_lexer": "ipython3",
   "version": "3.9.7"
  }
 },
 "nbformat": 4,
 "nbformat_minor": 5
}
