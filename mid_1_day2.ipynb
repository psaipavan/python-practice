{
  "nbformat": 4,
  "nbformat_minor": 0,
  "metadata": {
    "colab": {
      "name": "mid 1 day2.ipynb",
      "provenance": [],
      "authorship_tag": "ABX9TyPG0GH6T55pSNDx0QOJie+t",
      "include_colab_link": true
    },
    "kernelspec": {
      "name": "python3",
      "display_name": "Python 3"
    },
    "language_info": {
      "name": "python"
    }
  },
  "cells": [
    {
      "cell_type": "markdown",
      "metadata": {
        "id": "view-in-github",
        "colab_type": "text"
      },
      "source": [
        "<a href=\"https://colab.research.google.com/github/pullurisaipavan/python-practice/blob/main/mid_1_day2.ipynb\" target=\"_parent\"><img src=\"https://colab.research.google.com/assets/colab-badge.svg\" alt=\"Open In Colab\"/></a>"
      ]
    },
    {
      "cell_type": "code",
      "execution_count": 2,
      "metadata": {
        "colab": {
          "base_uri": "https://localhost:8080/"
        },
        "id": "sfDawJkMI1Q6",
        "outputId": "115c1575-9e04-4f43-f5ee-4cd46a69a93c"
      },
      "outputs": [
        {
          "output_type": "stream",
          "name": "stdout",
          "text": [
            "2\n",
            "3\n",
            "8\n"
          ]
        }
      ],
      "source": [
        "#write a program to find power of number with recurssion and without recurssion\n",
        "#n=2,p=3\n",
        "#without recurssion\n",
        "import math\n",
        "n=int(input())\n",
        "p=int(input())\n",
        "k=print(pow(n,p))"
      ]
    },
    {
      "cell_type": "code",
      "source": [
        "#with recurssion\n",
        "import math\n",
        "def power():\n",
        "  if(n>0):\n",
        "    return pow(n,p)\n",
        "\n",
        "n=int(input())\n",
        "p=int(input())\n",
        "power()\n",
        "k=print(pow(n,p))"
      ],
      "metadata": {
        "colab": {
          "base_uri": "https://localhost:8080/"
        },
        "id": "ZtSKT1xrJ8bC",
        "outputId": "1ded57e0-1be0-4d54-b9d2-09b3e3af928b"
      },
      "execution_count": 3,
      "outputs": [
        {
          "output_type": "stream",
          "name": "stdout",
          "text": [
            "2\n",
            "3\n",
            "8\n"
          ]
        }
      ]
    },
    {
      "cell_type": "code",
      "source": [
        "#write a program to sort tuple by total digits \n",
        "#input a=[(3,4,6,723),(1,2),(134,234,34)]\n",
        "a=[(3,4,6,723),(1,2),(134,234,34)]\n",
        "b=str(a)\n",
        "print(b)\n",
        "\n"
      ],
      "metadata": {
        "colab": {
          "base_uri": "https://localhost:8080/"
        },
        "id": "sA8pwLJMKJgn",
        "outputId": "b4dff884-8fa9-47fe-e153-86ff65c5b6e3"
      },
      "execution_count": 8,
      "outputs": [
        {
          "output_type": "stream",
          "name": "stdout",
          "text": [
            "[(3, 4, 6, 723), (1, 2), (134, 234, 34)]\n",
            "[(3, 4, 6, 723), (1, 2), (134, 234, 34)]\n"
          ]
        }
      ]
    },
    {
      "cell_type": "code",
      "source": [
        "3#take 5 subject marks from user and diplay the grade of the student \n",
        "#con:if average is 90-100 o grade80-89 a+70-79 a60-69 b+<40 fail\n",
        "s1=float(input(\"enter marks\"))\n",
        "s2=float(input(\"enter marks\"))\n",
        "s3=float(input(\"enter marks\"))\n",
        "s4=float(input(\"enter marks\"))\n",
        "s5=float(input(\"enter marks\"))\n",
        "avg=(s1+s2+s3+s4+s5)/5\n",
        "if avg>=90:\n",
        "  print(\"a grade\")\n",
        "elif avg>=80:\n",
        "  print(\"b grade\")\n",
        "elif avg>=70:\n",
        "  print(\"c grade\")\n",
        "elif avg>=60:\n",
        "  print(\"d grade\")\n",
        "else:\n",
        "  print(\"fail\")"
      ],
      "metadata": {
        "colab": {
          "base_uri": "https://localhost:8080/"
        },
        "id": "rd6NCGIKKmHX",
        "outputId": "80980fab-2081-4a1f-e874-4b9011fdb1f2"
      },
      "execution_count": 9,
      "outputs": [
        {
          "output_type": "stream",
          "name": "stdout",
          "text": [
            "enter marks22\n",
            "enter marks3\n",
            "enter marks33\n",
            "enter marks33\n",
            "enter marks41\n",
            "fail\n"
          ]
        }
      ]
    },
    {
      "cell_type": "code",
      "source": [
        "#write a python program that prints 1 if all the three given numbers are ascending order if not print 0"
      ],
      "metadata": {
        "id": "-r8MtXchLPsI"
      },
      "execution_count": null,
      "outputs": []
    },
    {
      "cell_type": "code",
      "source": [
        "#check the given number is perfect number or not\n",
        "num=int(input(\"Enter the number: \"))  \n",
        "sum_v=0  \n",
        "for i in range(1,num):  \n",
        "    if (num%i==0):  \n",
        "        sum_v=sum_v+i  \n",
        "if(sum_v==num):  \n",
        "    print(\"The entered number is a perfect number\")  \n",
        "else:  \n",
        "    print(\"The entered number is not a perfect number\")  \n"
      ],
      "metadata": {
        "colab": {
          "base_uri": "https://localhost:8080/"
        },
        "id": "jM-8u_0eLqaD",
        "outputId": "320bea36-9a9d-4567-da5c-41034490d91c"
      },
      "execution_count": 14,
      "outputs": [
        {
          "output_type": "stream",
          "name": "stdout",
          "text": [
            "Enter the number: 132\n",
            "The entered number is not a perfect number\n"
          ]
        }
      ]
    },
    {
      "cell_type": "code",
      "source": [
        "#check the given string is palindrome or not \n",
        "a=str(input())\n",
        "b=a[::-1]\n",
        "if(a==b):\n",
        "         print(\"it is palindrome\")\n",
        "else:\n",
        "       print(\"not a palindrome\")    "
      ],
      "metadata": {
        "colab": {
          "base_uri": "https://localhost:8080/"
        },
        "id": "0TqnBrKQMDUa",
        "outputId": "7164d47c-bc59-461d-d5e1-d94daa132ff3"
      },
      "execution_count": 45,
      "outputs": [
        {
          "output_type": "stream",
          "name": "stdout",
          "text": [
            "696\n",
            "it is palindrome\n"
          ]
        }
      ]
    },
    {
      "cell_type": "code",
      "source": [
        "#find the gcd of given numbers with and without recurssion\n",
        "a=int(input(\"enter a number\"))\n",
        "b=int(input(\"enter a number\"))\n",
        "k=a if a<b else b\n",
        "while True:\n",
        "    if a%k==0 and b%k==0:\n",
        "     break\n",
        "    k -=1\n",
        "print(k)\n"
      ],
      "metadata": {
        "id": "pGTfPsspMfSx"
      },
      "execution_count": null,
      "outputs": []
    },
    {
      "cell_type": "code",
      "source": [
        "#print sum of even digits in a given number\n",
        "n=int(input(\"enter range \"))\n",
        "c=0\n",
        "sum=0\n",
        "while n>0:\n",
        "   b=n%10\n",
        "   if(n%2==0):\n",
        "    sum=sum+b\n",
        "    \n",
        "   c=int(n/10)  \n",
        "print(sum)"
      ],
      "metadata": {
        "colab": {
          "base_uri": "https://localhost:8080/",
          "height": 252
        },
        "id": "1aU0Oc2xMyhB",
        "outputId": "d155a202-fc66-442b-8f55-71c2282ed96f"
      },
      "execution_count": 47,
      "outputs": [
        {
          "name": "stdout",
          "output_type": "stream",
          "text": [
            "enter range 12\n"
          ]
        },
        {
          "output_type": "error",
          "ename": "KeyboardInterrupt",
          "evalue": "ignored",
          "traceback": [
            "\u001b[0;31m---------------------------------------------------------------------------\u001b[0m",
            "\u001b[0;31mKeyboardInterrupt\u001b[0m                         Traceback (most recent call last)",
            "\u001b[0;32m<ipython-input-47-5905b2fdfe4f>\u001b[0m in \u001b[0;36m<module>\u001b[0;34m()\u001b[0m\n\u001b[1;32m      6\u001b[0m    \u001b[0mb\u001b[0m\u001b[0;34m=\u001b[0m\u001b[0mn\u001b[0m\u001b[0;34m%\u001b[0m\u001b[0;36m10\u001b[0m\u001b[0;34m\u001b[0m\u001b[0;34m\u001b[0m\u001b[0m\n\u001b[1;32m      7\u001b[0m    \u001b[0;32mif\u001b[0m\u001b[0;34m(\u001b[0m\u001b[0mn\u001b[0m\u001b[0;34m%\u001b[0m\u001b[0;36m2\u001b[0m\u001b[0;34m==\u001b[0m\u001b[0;36m0\u001b[0m\u001b[0;34m)\u001b[0m\u001b[0;34m:\u001b[0m\u001b[0;34m\u001b[0m\u001b[0;34m\u001b[0m\u001b[0m\n\u001b[0;32m----> 8\u001b[0;31m     \u001b[0msum\u001b[0m\u001b[0;34m=\u001b[0m\u001b[0msum\u001b[0m\u001b[0;34m+\u001b[0m\u001b[0mb\u001b[0m\u001b[0;34m\u001b[0m\u001b[0;34m\u001b[0m\u001b[0m\n\u001b[0m\u001b[1;32m      9\u001b[0m \u001b[0;34m\u001b[0m\u001b[0m\n\u001b[1;32m     10\u001b[0m    \u001b[0mc\u001b[0m\u001b[0;34m=\u001b[0m\u001b[0mint\u001b[0m\u001b[0;34m(\u001b[0m\u001b[0mn\u001b[0m\u001b[0;34m/\u001b[0m\u001b[0;36m10\u001b[0m\u001b[0;34m)\u001b[0m\u001b[0;34m\u001b[0m\u001b[0;34m\u001b[0m\u001b[0m\n",
            "\u001b[0;31mKeyboardInterrupt\u001b[0m: "
          ]
        }
      ]
    },
    {
      "cell_type": "code",
      "source": [
        "#write a program to calculate sum of squares of digits of a number given by user123 1^2+2^2+3^3=14\n",
        "num=int(input())\n",
        "sum=0\n",
        "while num!=0:\n",
        "  rem = num%10\n",
        "  sqr = rem*rem\n",
        "  sum = sum+sqr\n",
        "  num = int(num/10)\n",
        "\n",
        "print(sum)  "
      ],
      "metadata": {
        "colab": {
          "base_uri": "https://localhost:8080/"
        },
        "id": "1l6FzPMjNGRi",
        "outputId": "fac550d4-56ed-434d-d07f-87d15ccc4d8f"
      },
      "execution_count": 39,
      "outputs": [
        {
          "output_type": "stream",
          "name": "stdout",
          "text": [
            "123\n",
            "14\n"
          ]
        }
      ]
    },
    {
      "cell_type": "code",
      "source": [
        "#given a string is s=\"abcdefcba\"how many times ith output is 3\n",
        "#print count front back matches\n"
      ],
      "metadata": {
        "id": "f6Rr3EefNdWA"
      },
      "execution_count": null,
      "outputs": []
    },
    {
      "cell_type": "code",
      "source": [
        "#given an integer n ,return a list containing 11223334444 and finally n repeated n times (n>0)\n",
        "#print(repeatnumber(4))"
      ],
      "metadata": {
        "id": "qbVaaq0SOAN5"
      },
      "execution_count": null,
      "outputs": []
    },
    {
      "cell_type": "code",
      "source": [
        "#print number of vowels and consonants in a string\n"
      ],
      "metadata": {
        "id": "YLq7We9FPGqb"
      },
      "execution_count": null,
      "outputs": []
    },
    {
      "cell_type": "code",
      "source": [
        "#given two integers a and b if a is less than b,print all numbers between ascending order if a is greater than b print all numbers in descending order\n",
        "#12 ,15 and -12,-15"
      ],
      "metadata": {
        "id": "81uCg1o-PhQU"
      },
      "execution_count": null,
      "outputs": []
    },
    {
      "cell_type": "code",
      "source": [
        "#program to print max number among three numbers\n",
        "a=int(input())\n",
        "b=int(input())\n",
        "c=int(input())\n",
        "if(a>b and a>c):\n",
        "  print(a)\n",
        "elif(b>c and b>a):\n",
        "  print(b)\n",
        "else:\n",
        "  print(c)  "
      ],
      "metadata": {
        "colab": {
          "base_uri": "https://localhost:8080/"
        },
        "id": "PvWIu4M5P8Xh",
        "outputId": "84bc3c54-afba-45a5-9662-dadfb8ab2ffe"
      },
      "execution_count": 42,
      "outputs": [
        {
          "output_type": "stream",
          "name": "stdout",
          "text": [
            "32\n",
            "4\n",
            "2\n",
            "32\n"
          ]
        }
      ]
    },
    {
      "cell_type": "code",
      "source": [
        "#write a program to count the number of strings wherer the string len is 2 or more and the first and last are same from given list"
      ],
      "metadata": {
        "id": "zMmYoH69QXep"
      },
      "execution_count": null,
      "outputs": []
    },
    {
      "cell_type": "code",
      "source": [
        "#a round trip of 6kms no.of days and no.of round trips <40000 great job or walk more\n",
        "days=int(input())\n"
      ],
      "metadata": {
        "id": "7xUp7jSYQ0Vp"
      },
      "execution_count": null,
      "outputs": []
    },
    {
      "cell_type": "code",
      "source": [
        "#given a list of students and a character display the names of student whos first letter is given as input\n",
        "#example print student details along with the characters"
      ],
      "metadata": {
        "id": "OMQkWBgiSIuz"
      },
      "execution_count": null,
      "outputs": []
    },
    {
      "cell_type": "code",
      "source": [
        "#given a list of city names whos length is given as ,print the city names whos length is greater than given length "
      ],
      "metadata": {
        "id": "Gq8tyfffSlZq"
      },
      "execution_count": null,
      "outputs": []
    }
  ]
}