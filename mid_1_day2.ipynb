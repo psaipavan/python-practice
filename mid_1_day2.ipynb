{
  "nbformat": 4,
  "nbformat_minor": 0,
  "metadata": {
    "colab": {
      "name": "mid 1 day2.ipynb",
      "provenance": [],
      "authorship_tag": "ABX9TyOdAKgH4VRqwXrLennj8oMv",
      "include_colab_link": true
    },
    "kernelspec": {
      "name": "python3",
      "display_name": "Python 3"
    },
    "language_info": {
      "name": "python"
    }
  },
  "cells": [
    {
      "cell_type": "markdown",
      "metadata": {
        "id": "view-in-github",
        "colab_type": "text"
      },
      "source": [
        "<a href=\"https://colab.research.google.com/github/pullurisaipavan/python-practice/blob/main/mid_1_day2.ipynb\" target=\"_parent\"><img src=\"https://colab.research.google.com/assets/colab-badge.svg\" alt=\"Open In Colab\"/></a>"
      ]
    },
    {
      "cell_type": "code",
      "execution_count": 2,
      "metadata": {
        "colab": {
          "base_uri": "https://localhost:8080/"
        },
        "id": "sfDawJkMI1Q6",
        "outputId": "115c1575-9e04-4f43-f5ee-4cd46a69a93c"
      },
      "outputs": [
        {
          "output_type": "stream",
          "name": "stdout",
          "text": [
            "2\n",
            "3\n",
            "8\n"
          ]
        }
      ],
      "source": [
        "#write a program to find power of number with recurssion and without recurssion\n",
        "#n=2,p=3\n",
        "#without recurssion\n",
        "import math\n",
        "n=int(input())\n",
        "p=int(input())\n",
        "k=print(pow(n,p))"
      ]
    },
    {
      "cell_type": "code",
      "source": [
        "#with recurssion\n",
        "import math\n",
        "def power():\n",
        "  if(n>0):\n",
        "    return pow(n,p)\n",
        "\n",
        "n=int(input())\n",
        "p=int(input())\n",
        "power()\n",
        "k=print(pow(n,p))"
      ],
      "metadata": {
        "colab": {
          "base_uri": "https://localhost:8080/"
        },
        "id": "ZtSKT1xrJ8bC",
        "outputId": "1ded57e0-1be0-4d54-b9d2-09b3e3af928b"
      },
      "execution_count": 3,
      "outputs": [
        {
          "output_type": "stream",
          "name": "stdout",
          "text": [
            "2\n",
            "3\n",
            "8\n"
          ]
        }
      ]
    },
    {
      "cell_type": "code",
      "source": [
        "#write a program to sort tuple by total digits \n",
        "#input a=[(3,4,6,723),(1,2),(134,234,34)]\n",
        "a=[(3,4,6,723),(1,2),(134,234,34)]\n",
        "b=str(a)\n"
      ],
      "metadata": {
        "colab": {
          "base_uri": "https://localhost:8080/"
        },
        "id": "sA8pwLJMKJgn",
        "outputId": "97564a30-0e89-4f37-d5b9-fe695c417683"
      },
      "execution_count": 6,
      "outputs": [
        {
          "output_type": "stream",
          "name": "stdout",
          "text": [
            "[(3, 4, 6, 723), (1, 2), (134, 234, 34)]\n"
          ]
        }
      ]
    },
    {
      "cell_type": "code",
      "source": [
        "#take 5 subject marks from user and diplay the grade of the student \n",
        "#con:if average is 90-100 o grade80-89 a+70-79 a60-69 b+<40 fail"
      ],
      "metadata": {
        "id": "rd6NCGIKKmHX"
      },
      "execution_count": null,
      "outputs": []
    },
    {
      "cell_type": "code",
      "source": [
        "#write a python program that prints 1 if all the three given numbers are ascending order if not print 0"
      ],
      "metadata": {
        "id": "-r8MtXchLPsI"
      },
      "execution_count": null,
      "outputs": []
    },
    {
      "cell_type": "code",
      "source": [
        "#check the given number is perfect number or not"
      ],
      "metadata": {
        "id": "jM-8u_0eLqaD"
      },
      "execution_count": null,
      "outputs": []
    },
    {
      "cell_type": "code",
      "source": [
        "#check the given string is palindrome or not \n",
        "a=str(input())\n",
        "\n",
        "\n"
      ],
      "metadata": {
        "colab": {
          "base_uri": "https://localhost:8080/",
          "height": 235
        },
        "id": "0TqnBrKQMDUa",
        "outputId": "bb5d0af9-32b0-4992-b47a-b7d518f26ef9"
      },
      "execution_count": 4,
      "outputs": [
        {
          "name": "stdout",
          "output_type": "stream",
          "text": [
            "dadw\n"
          ]
        },
        {
          "output_type": "error",
          "ename": "TypeError",
          "evalue": "ignored",
          "traceback": [
            "\u001b[0;31m---------------------------------------------------------------------------\u001b[0m",
            "\u001b[0;31mTypeError\u001b[0m                                 Traceback (most recent call last)",
            "\u001b[0;32m<ipython-input-4-07c9f7a0d4f4>\u001b[0m in \u001b[0;36m<module>\u001b[0;34m()\u001b[0m\n\u001b[1;32m      2\u001b[0m \u001b[0ma\u001b[0m\u001b[0;34m=\u001b[0m\u001b[0mstr\u001b[0m\u001b[0;34m(\u001b[0m\u001b[0minput\u001b[0m\u001b[0;34m(\u001b[0m\u001b[0;34m)\u001b[0m\u001b[0;34m)\u001b[0m\u001b[0;34m\u001b[0m\u001b[0;34m\u001b[0m\u001b[0m\n\u001b[1;32m      3\u001b[0m \u001b[0mc\u001b[0m\u001b[0;34m=\u001b[0m\u001b[0ma\u001b[0m\u001b[0;34m\u001b[0m\u001b[0;34m\u001b[0m\u001b[0m\n\u001b[0;32m----> 4\u001b[0;31m \u001b[0ma\u001b[0m\u001b[0;34m=\u001b[0m\u001b[0ma\u001b[0m\u001b[0;34m%\u001b[0m\u001b[0;36m10\u001b[0m\u001b[0;34m\u001b[0m\u001b[0;34m\u001b[0m\u001b[0m\n\u001b[0m\u001b[1;32m      5\u001b[0m \u001b[0mprint\u001b[0m\u001b[0;34m(\u001b[0m\u001b[0ma\u001b[0m\u001b[0;34m)\u001b[0m\u001b[0;34m\u001b[0m\u001b[0;34m\u001b[0m\u001b[0m\n",
            "\u001b[0;31mTypeError\u001b[0m: not all arguments converted during string formatting"
          ]
        }
      ]
    },
    {
      "cell_type": "code",
      "source": [
        "#find the gcd of given numbers with and without recurssion\n"
      ],
      "metadata": {
        "id": "pGTfPsspMfSx"
      },
      "execution_count": null,
      "outputs": []
    },
    {
      "cell_type": "code",
      "source": [
        "#print sum of even digits in a given number"
      ],
      "metadata": {
        "id": "1aU0Oc2xMyhB"
      },
      "execution_count": null,
      "outputs": []
    },
    {
      "cell_type": "code",
      "source": [
        "#write a program to calculate sum of squares of digits of a number given by user123 1^2+2^2+3^3=14"
      ],
      "metadata": {
        "id": "1l6FzPMjNGRi"
      },
      "execution_count": null,
      "outputs": []
    },
    {
      "cell_type": "code",
      "source": [
        "#given a string is s=\"abcdefcba\"how many times ith output is 3\n",
        "#print count front back matches"
      ],
      "metadata": {
        "id": "f6Rr3EefNdWA"
      },
      "execution_count": null,
      "outputs": []
    },
    {
      "cell_type": "code",
      "source": [
        "#given an integer n ,return a list containing 11223334444 and finally n repeated n times (n>0)\n",
        "#print(repeatnumber(4))"
      ],
      "metadata": {
        "id": "qbVaaq0SOAN5"
      },
      "execution_count": null,
      "outputs": []
    },
    {
      "cell_type": "code",
      "source": [
        "#print number of vowels and consonants in a string\n"
      ],
      "metadata": {
        "id": "YLq7We9FPGqb"
      },
      "execution_count": null,
      "outputs": []
    },
    {
      "cell_type": "code",
      "source": [
        "#given two integers a and b if a is less than b,print all numbers between ascending order if a is greater than b print all numbers in descending order\n",
        "#12 ,15 and -12,-15"
      ],
      "metadata": {
        "id": "81uCg1o-PhQU"
      },
      "execution_count": null,
      "outputs": []
    },
    {
      "cell_type": "code",
      "source": [
        "#program to print max number among three numbers"
      ],
      "metadata": {
        "id": "PvWIu4M5P8Xh"
      },
      "execution_count": null,
      "outputs": []
    }
  ]
}