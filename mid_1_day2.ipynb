{
  "cells": [
    {
      "cell_type": "markdown",
      "metadata": {
        "id": "view-in-github",
        "colab_type": "text"
      },
      "source": [
        "<a href=\"https://colab.research.google.com/github/pullurisaipavan/python-practice/blob/main/mid_1_day2.ipynb\" target=\"_parent\"><img src=\"https://colab.research.google.com/assets/colab-badge.svg\" alt=\"Open In Colab\"/></a>"
      ]
    },
    {
      "cell_type": "code",
      "execution_count": null,
      "metadata": {
        "colab": {
          "base_uri": "https://localhost:8080/"
        },
        "id": "sfDawJkMI1Q6",
        "outputId": "115c1575-9e04-4f43-f5ee-4cd46a69a93c"
      },
      "outputs": [
        {
          "name": "stdout",
          "output_type": "stream",
          "text": [
            "2\n",
            "3\n",
            "8\n"
          ]
        }
      ],
      "source": [
        "#write a program to find power of number with recurssion and without recurssion\n",
        "#n=2,p=3\n",
        "#without recurssion\n",
        "import math\n",
        "n=int(input())\n",
        "p=int(input())\n",
        "k=print(pow(n,p))"
      ]
    },
    {
      "cell_type": "code",
      "execution_count": null,
      "metadata": {
        "colab": {
          "base_uri": "https://localhost:8080/"
        },
        "id": "ZtSKT1xrJ8bC",
        "outputId": "1ded57e0-1be0-4d54-b9d2-09b3e3af928b"
      },
      "outputs": [
        {
          "name": "stdout",
          "output_type": "stream",
          "text": [
            "2\n",
            "3\n",
            "8\n"
          ]
        }
      ],
      "source": [
        "#with recurssion\n",
        "import math\n",
        "def power():\n",
        "  if(n>0):\n",
        "    return pow(n,p)\n",
        "\n",
        "n=int(input())\n",
        "p=int(input())\n",
        "power()\n",
        "k=print(pow(n,p))"
      ]
    },
    {
      "cell_type": "code",
      "execution_count": null,
      "metadata": {
        "colab": {
          "background_save": true,
          "base_uri": "https://localhost:8080/"
        },
        "id": "sA8pwLJMKJgn",
        "outputId": "7a49fb6d-f513-43fa-d1ce-314873bbfd26"
      },
      "outputs": [
        {
          "name": "stdout",
          "output_type": "stream",
          "text": [
            "[(3, 4, 6, 723), (1, 2), (134, 234, 34)]\n"
          ]
        }
      ],
      "source": [
        "#write a program to sort tuple by total digits \n",
        "#input a=[(3,4,6,723),(1,2),(134,234,34)]\n",
        "a=[(3,4,6,723),(1,2),(134,234,34)]\n",
        "b=str(a)\n",
        "print(b)\n",
        "\n"
      ]
    },
    {
      "cell_type": "code",
      "execution_count": null,
      "metadata": {
        "id": "rd6NCGIKKmHX"
      },
      "outputs": [],
      "source": [
        "#take 5 subject marks from user and diplay the grade of the student \n",
        "#con:if average is 90-100 o grade80-89 a+70-79 a60-69 b+<40 fail\n",
        "s1=int(input())\n",
        "s2=int(input())\n",
        "s3=int(input())\n",
        "s4=int(input())\n",
        "s5=int(input())\n",
        "avg=(s1+s2+s3+s4+s5)/5\n",
        "if avg>=90:\n",
        "  print(\"O grade\")\n",
        "elif avg>=80:\n",
        "  print(\"A+ grade\")\n",
        "elif avg>=70:\n",
        "  print(\"A grade\")\n",
        "elif avg>=60:\n",
        "  print(\"B+ grade\")\n",
        "elif avg>=50:\n",
        "  print(\"B grade\")\n",
        "elif avg>=40:\n",
        "  print(\"C grade\")\n",
        "else:\n",
        "  print(\"Fail8\")"
      ]
    },
    {
      "cell_type": "code",
      "execution_count": null,
      "metadata": {
        "id": "-r8MtXchLPsI"
      },
      "outputs": [],
      "source": [
        "#write a python program that prints 1 if all the three given numbers are ascending order if not print 0\n",
        "a=int(input())\n",
        "b=int(input())\n",
        "c=int(input())\n",
        "d=[a,b,c]\n",
        "e=d\n",
        "d.sort()\n",
        "if d==e:\n",
        "  print(\"1\")\n",
        "else:\n",
        "  print(\"0\")"
      ]
    },
    {
      "cell_type": "code",
      "execution_count": null,
      "metadata": {
        "id": "jM-8u_0eLqaD"
      },
      "outputs": [],
      "source": [
        "#check the given number is perfect number or not\n",
        "a=int(input())\n",
        "b=a\n",
        "c=0\n",
        "for i in range(1,a):\n",
        "  if a%i==0:\n",
        "    c+=i\n",
        "if c==b:\n",
        "  print(\"perfect number\")\n",
        "else:\n",
        "  print(\"not perfect number\")"
      ]
    },
    {
      "cell_type": "code",
      "execution_count": null,
      "metadata": {
        "colab": {
          "base_uri": "https://localhost:8080/",
          "height": 235
        },
        "id": "0TqnBrKQMDUa",
        "outputId": "bb5d0af9-32b0-4992-b47a-b7d518f26ef9"
      },
      "outputs": [
        {
          "name": "stdout",
          "output_type": "stream",
          "text": [
            "dadw\n"
          ]
        },
        {
          "ename": "TypeError",
          "evalue": "ignored",
          "output_type": "error",
          "traceback": [
            "\u001b[0;31m---------------------------------------------------------------------------\u001b[0m",
            "\u001b[0;31mTypeError\u001b[0m                                 Traceback (most recent call last)",
            "\u001b[0;32m<ipython-input-4-07c9f7a0d4f4>\u001b[0m in \u001b[0;36m<module>\u001b[0;34m()\u001b[0m\n\u001b[1;32m      2\u001b[0m \u001b[0ma\u001b[0m\u001b[0;34m=\u001b[0m\u001b[0mstr\u001b[0m\u001b[0;34m(\u001b[0m\u001b[0minput\u001b[0m\u001b[0;34m(\u001b[0m\u001b[0;34m)\u001b[0m\u001b[0;34m)\u001b[0m\u001b[0;34m\u001b[0m\u001b[0;34m\u001b[0m\u001b[0m\n\u001b[1;32m      3\u001b[0m \u001b[0mc\u001b[0m\u001b[0;34m=\u001b[0m\u001b[0ma\u001b[0m\u001b[0;34m\u001b[0m\u001b[0;34m\u001b[0m\u001b[0m\n\u001b[0;32m----> 4\u001b[0;31m \u001b[0ma\u001b[0m\u001b[0;34m=\u001b[0m\u001b[0ma\u001b[0m\u001b[0;34m%\u001b[0m\u001b[0;36m10\u001b[0m\u001b[0;34m\u001b[0m\u001b[0;34m\u001b[0m\u001b[0m\n\u001b[0m\u001b[1;32m      5\u001b[0m \u001b[0mprint\u001b[0m\u001b[0;34m(\u001b[0m\u001b[0ma\u001b[0m\u001b[0;34m)\u001b[0m\u001b[0;34m\u001b[0m\u001b[0;34m\u001b[0m\u001b[0m\n",
            "\u001b[0;31mTypeError\u001b[0m: not all arguments converted during string formatting"
          ]
        }
      ],
      "source": [
        "#check the given string is palindrome or not \n",
        "s=input()\n",
        "a = \"\"\n",
        "for i in s:\n",
        "  a = i + a\n",
        "if a==s:\n",
        "  print(\"palindrome\")\n",
        "else:\n",
        "  print(\"Not palindrome\")\n",
        "\n"
      ]
    },
    {
      "cell_type": "code",
      "execution_count": null,
      "metadata": {
        "id": "pGTfPsspMfSx"
      },
      "outputs": [],
      "source": [
        "#find the gcd of given numbers with and without recurssion\n",
        "\n",
        "a=int(input(\"enter a number\"))\n",
        "b=int(input(\"enter another number\"))\n",
        "k=a if (a<b) else b\n",
        "while True:\n",
        "  if(a%k==0 and b%k==0):\n",
        "    break\n",
        "  k-=1\n",
        "print(k)"
      ]
    },
    {
      "cell_type": "code",
      "execution_count": null,
      "metadata": {
        "id": "1aU0Oc2xMyhB"
      },
      "outputs": [],
      "source": [
        "#print sum of even digits in a given number\n",
        "a=int(input())\n",
        "s=0\n",
        "while a>0:\n",
        "  d=a%10\n",
        "  if d%2==0:\n",
        "    s=s+d\n",
        "  a=a//10\n",
        "print(s)"
      ]
    },
    {
      "cell_type": "code",
      "execution_count": null,
      "metadata": {
        "id": "1l6FzPMjNGRi"
      },
      "outputs": [],
      "source": [
        "#write a program to calculate sum of squares of digits of a number given by user123 1^2+2^2+3^3=14\n",
        "a=int(input())\n",
        "s=0\n",
        "while a>0:\n",
        "  d=a%10\n",
        "  s=s+d*d\n",
        "  a=a//10\n",
        "print(s)"
      ]
    },
    {
      "cell_type": "code",
      "execution_count": null,
      "metadata": {
        "id": "f6Rr3EefNdWA"
      },
      "outputs": [],
      "source": [
        "#given a string is s=\"abcdefcba\"how many times ith output is 3\n",
        "#print count front back matches\n",
        "a=input()\n",
        "c=0\n",
        "for i in range(len(a)//2):\n",
        "  d=i+1\n",
        "  if a[i]==a[-d]:\n",
        "    c+=1\n",
        "print(c)"
      ]
    },
    {
      "cell_type": "code",
      "execution_count": null,
      "metadata": {
        "id": "qbVaaq0SOAN5"
      },
      "outputs": [],
      "source": [
        "#given an integer n ,return a list containing 11223334444 and finally n repeated n times (n>0)\n",
        "#print(repeatnumber(4))\n",
        "a=int(input())\n",
        "b=[]\n",
        "for i in range(1,a+1):\n",
        "  for j in range(i):\n",
        "    b.append(i)\n",
        "print(b)"
      ]
    },
    {
      "cell_type": "code",
      "execution_count": null,
      "metadata": {
        "id": "YLq7We9FPGqb"
      },
      "outputs": [],
      "source": [
        "#print number of vowels and consonants in a string\n",
        "a=input()\n",
        "v=0\n",
        "c=0\n",
        "for i in range(len(a)):\n",
        "  if a[i]=='a' or a[i]=='e' or a[i]=='i' or a[i]=='o' or a[i]=='u':\n",
        "    v+=1\n",
        "  else:\n",
        "    c+=1\n",
        "print(\"vowels=\",v)\n",
        "print('consonants=',c)"
      ]
    },
    {
      "cell_type": "code",
      "execution_count": null,
      "metadata": {
        "id": "81uCg1o-PhQU"
      },
      "outputs": [],
      "source": [
        "#given two integers a and b if a is less than b,print all numbers between ascending order if a is greater than b print all numbers in descending order\n",
        "#12 ,15 and -12,-15\n",
        "a=int(input())\n",
        "b=int(input())\n",
        "if a>b:\n",
        "  while a>=b:\n",
        "    print(a,end=\" \")\n",
        "    a-=1\n",
        "else:\n",
        "  for i in range(a,b+1):\n",
        "    print(i,end=\" \")"
      ]
    },
    {
      "cell_type": "code",
      "execution_count": null,
      "metadata": {
        "id": "PvWIu4M5P8Xh"
      },
      "outputs": [],
      "source": [
        "#program to print max number among three numbers"
      ]
    },
    {
      "cell_type": "code",
      "execution_count": null,
      "metadata": {
        "id": "zMmYoH69QXep"
      },
      "outputs": [],
      "source": [
        "#given a list of city names print the city names whose length is greater than the given length\n",
        "a=['devender','srikar','omsri','mahi','sohan','abhi']\n",
        "b=int(input())\n",
        "c=[]\n",
        "for i in a:\n",
        "  if len(i)>=b:\n",
        "    c.append(i)\n",
        "print(c)"
      ]
    }
  ],
  "metadata": {
    "colab": {
      "name": "mid 1 day2.ipynb",
      "provenance": [],
      "authorship_tag": "ABX9TyMcA4+yczsjSdegfWllwRUo",
      "include_colab_link": true
    },
    "kernelspec": {
      "display_name": "Python 3",
      "name": "python3"
    },
    "language_info": {
      "name": "python"
    }
  },
  "nbformat": 4,
  "nbformat_minor": 0
}